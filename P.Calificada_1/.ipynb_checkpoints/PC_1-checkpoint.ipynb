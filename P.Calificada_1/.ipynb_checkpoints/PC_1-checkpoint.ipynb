{
 "cells": [
  {
   "cell_type": "markdown",
   "metadata": {
    "id": "bYdTyGq22iMc"
   },
   "source": [
    "\n",
    "# **Econometría Aplicada Avanzada**\n",
    "\n",
    "## Práctica calificada 1: Diferencias en Diferencias"
   ]
  },
  {
   "cell_type": "markdown",
   "metadata": {
    "id": "rhLWm7RJ2sRs"
   },
   "source": [
    "## **Integrantes**\n",
    "\n",
    "1. Gianfranco Romero (20196091)\n",
    "2. Shaska Guevara (20171597)\n",
    "3. Micaela Gutierrez (20171488)\n",
    "4. Eduardo Ramírez (20162936)\n",
    "5. Fernando Mendoza (20105246)"
   ]
  },
  {
   "cell_type": "markdown",
   "metadata": {
    "id": "X8-ZWAsrGxDv"
   },
   "source": [
    "# **Librerías**"
   ]
  },
  {
   "cell_type": "markdown",
   "metadata": {
    "id": "mzIL4-hM2uOE"
   },
   "source": [
    "Instalamos las librerías"
   ]
  },
  {
   "cell_type": "code",
   "execution_count": null,
   "metadata": {
    "collapsed": true,
    "id": "qHsHQSL_2b6L",
    "jupyter": {
     "outputs_hidden": true
    }
   },
   "outputs": [],
   "source": [
    "#!pip install csdid\n",
    "#!pip install pandas\n",
    "#!pip install statsmodels\n",
    "#!pip install linearmodels\n",
    "#!pip install matplotlib\n",
    "#!pip install pyfixest\n",
    "#!pip install drdid\n",
    "#!pip install requests\n",
    "#!pip install pyreadstat"
   ]
  },
  {
   "cell_type": "code",
   "execution_count": null,
   "metadata": {
    "colab": {
     "base_uri": "https://localhost:8080/"
    },
    "id": "qezVGzx__7IA",
    "outputId": "ba1800a5-3192-48b2-ca3c-e6bc2bc551b1"
   },
   "outputs": [
    {
     "name": "stdout",
     "output_type": "stream",
     "text": [
      "Requirement already satisfied: csdid in /usr/local/lib/python3.10/dist-packages (0.2.5)\n",
      "Requirement already satisfied: pandas in /usr/local/lib/python3.10/dist-packages (from csdid) (2.2.2)\n",
      "Requirement already satisfied: numpy<=1.24.3 in /usr/local/lib/python3.10/dist-packages (from csdid) (1.24.3)\n",
      "Requirement already satisfied: scipy in /usr/local/lib/python3.10/dist-packages (from csdid) (1.13.1)\n",
      "Requirement already satisfied: patsy in /usr/local/lib/python3.10/dist-packages (from csdid) (1.0.1)\n",
      "Requirement already satisfied: plotnine in /usr/local/lib/python3.10/dist-packages (from csdid) (0.14.1)\n",
      "Requirement already satisfied: twine in /usr/local/lib/python3.10/dist-packages (from csdid) (6.0.1)\n",
      "Requirement already satisfied: python-dateutil>=2.8.2 in /usr/local/lib/python3.10/dist-packages (from pandas->csdid) (2.8.2)\n",
      "Requirement already satisfied: pytz>=2020.1 in /usr/local/lib/python3.10/dist-packages (from pandas->csdid) (2024.2)\n",
      "Requirement already satisfied: tzdata>=2022.7 in /usr/local/lib/python3.10/dist-packages (from pandas->csdid) (2024.2)\n",
      "Requirement already satisfied: matplotlib>=3.8.0 in /usr/local/lib/python3.10/dist-packages (from plotnine->csdid) (3.8.0)\n",
      "Requirement already satisfied: mizani~=0.13.0 in /usr/local/lib/python3.10/dist-packages (from plotnine->csdid) (0.13.0)\n",
      "Requirement already satisfied: statsmodels>=0.14.0 in /usr/local/lib/python3.10/dist-packages (from plotnine->csdid) (0.14.4)\n",
      "Requirement already satisfied: pkginfo>=1.8.1 in /usr/local/lib/python3.10/dist-packages (from twine->csdid) (1.11.2)\n",
      "Requirement already satisfied: readme-renderer>=35.0 in /usr/local/lib/python3.10/dist-packages (from twine->csdid) (44.0)\n",
      "Requirement already satisfied: requests>=2.20 in /usr/local/lib/python3.10/dist-packages (from twine->csdid) (2.32.3)\n",
      "Requirement already satisfied: requests-toolbelt!=0.9.0,>=0.8.0 in /usr/local/lib/python3.10/dist-packages (from twine->csdid) (1.0.0)\n",
      "Requirement already satisfied: urllib3>=1.26.0 in /usr/local/lib/python3.10/dist-packages (from twine->csdid) (2.2.3)\n",
      "Requirement already satisfied: keyring>=15.1 in /usr/lib/python3/dist-packages (from twine->csdid) (23.5.0)\n",
      "Requirement already satisfied: rfc3986>=1.4.0 in /usr/local/lib/python3.10/dist-packages (from twine->csdid) (2.0.0)\n",
      "Requirement already satisfied: rich>=12.0.0 in /usr/local/lib/python3.10/dist-packages (from twine->csdid) (13.9.4)\n",
      "Requirement already satisfied: packaging in /usr/local/lib/python3.10/dist-packages (from twine->csdid) (24.2)\n",
      "Requirement already satisfied: contourpy>=1.0.1 in /usr/local/lib/python3.10/dist-packages (from matplotlib>=3.8.0->plotnine->csdid) (1.3.1)\n",
      "Requirement already satisfied: cycler>=0.10 in /usr/local/lib/python3.10/dist-packages (from matplotlib>=3.8.0->plotnine->csdid) (0.12.1)\n",
      "Requirement already satisfied: fonttools>=4.22.0 in /usr/local/lib/python3.10/dist-packages (from matplotlib>=3.8.0->plotnine->csdid) (4.55.0)\n",
      "Requirement already satisfied: kiwisolver>=1.0.1 in /usr/local/lib/python3.10/dist-packages (from matplotlib>=3.8.0->plotnine->csdid) (1.4.7)\n",
      "Requirement already satisfied: pillow>=6.2.0 in /usr/local/lib/python3.10/dist-packages (from matplotlib>=3.8.0->plotnine->csdid) (11.0.0)\n",
      "Requirement already satisfied: pyparsing>=2.3.1 in /usr/local/lib/python3.10/dist-packages (from matplotlib>=3.8.0->plotnine->csdid) (3.2.0)\n",
      "Requirement already satisfied: six>=1.5 in /usr/local/lib/python3.10/dist-packages (from python-dateutil>=2.8.2->pandas->csdid) (1.16.0)\n",
      "Requirement already satisfied: nh3>=0.2.14 in /usr/local/lib/python3.10/dist-packages (from readme-renderer>=35.0->twine->csdid) (0.2.19)\n",
      "Requirement already satisfied: docutils>=0.21.2 in /usr/local/lib/python3.10/dist-packages (from readme-renderer>=35.0->twine->csdid) (0.21.2)\n",
      "Requirement already satisfied: Pygments>=2.5.1 in /usr/local/lib/python3.10/dist-packages (from readme-renderer>=35.0->twine->csdid) (2.18.0)\n",
      "Requirement already satisfied: charset-normalizer<4,>=2 in /usr/local/lib/python3.10/dist-packages (from requests>=2.20->twine->csdid) (3.4.0)\n",
      "Requirement already satisfied: idna<4,>=2.5 in /usr/local/lib/python3.10/dist-packages (from requests>=2.20->twine->csdid) (3.10)\n",
      "Requirement already satisfied: certifi>=2017.4.17 in /usr/local/lib/python3.10/dist-packages (from requests>=2.20->twine->csdid) (2024.8.30)\n",
      "Requirement already satisfied: markdown-it-py>=2.2.0 in /usr/local/lib/python3.10/dist-packages (from rich>=12.0.0->twine->csdid) (3.0.0)\n",
      "Requirement already satisfied: typing-extensions<5.0,>=4.0.0 in /usr/local/lib/python3.10/dist-packages (from rich>=12.0.0->twine->csdid) (4.12.2)\n",
      "Requirement already satisfied: mdurl~=0.1 in /usr/local/lib/python3.10/dist-packages (from markdown-it-py>=2.2.0->rich>=12.0.0->twine->csdid) (0.1.2)\n",
      "Requirement already satisfied: pandas in /usr/local/lib/python3.10/dist-packages (2.2.2)\n",
      "Requirement already satisfied: numpy>=1.22.4 in /usr/local/lib/python3.10/dist-packages (from pandas) (1.24.3)\n",
      "Requirement already satisfied: python-dateutil>=2.8.2 in /usr/local/lib/python3.10/dist-packages (from pandas) (2.8.2)\n",
      "Requirement already satisfied: pytz>=2020.1 in /usr/local/lib/python3.10/dist-packages (from pandas) (2024.2)\n",
      "Requirement already satisfied: tzdata>=2022.7 in /usr/local/lib/python3.10/dist-packages (from pandas) (2024.2)\n",
      "Requirement already satisfied: six>=1.5 in /usr/local/lib/python3.10/dist-packages (from python-dateutil>=2.8.2->pandas) (1.16.0)\n",
      "Requirement already satisfied: statsmodels in /usr/local/lib/python3.10/dist-packages (0.14.4)\n",
      "Requirement already satisfied: numpy<3,>=1.22.3 in /usr/local/lib/python3.10/dist-packages (from statsmodels) (1.24.3)\n",
      "Requirement already satisfied: scipy!=1.9.2,>=1.8 in /usr/local/lib/python3.10/dist-packages (from statsmodels) (1.13.1)\n",
      "Requirement already satisfied: pandas!=2.1.0,>=1.4 in /usr/local/lib/python3.10/dist-packages (from statsmodels) (2.2.2)\n",
      "Requirement already satisfied: patsy>=0.5.6 in /usr/local/lib/python3.10/dist-packages (from statsmodels) (1.0.1)\n",
      "Requirement already satisfied: packaging>=21.3 in /usr/local/lib/python3.10/dist-packages (from statsmodels) (24.2)\n",
      "Requirement already satisfied: python-dateutil>=2.8.2 in /usr/local/lib/python3.10/dist-packages (from pandas!=2.1.0,>=1.4->statsmodels) (2.8.2)\n",
      "Requirement already satisfied: pytz>=2020.1 in /usr/local/lib/python3.10/dist-packages (from pandas!=2.1.0,>=1.4->statsmodels) (2024.2)\n",
      "Requirement already satisfied: tzdata>=2022.7 in /usr/local/lib/python3.10/dist-packages (from pandas!=2.1.0,>=1.4->statsmodels) (2024.2)\n",
      "Requirement already satisfied: six>=1.5 in /usr/local/lib/python3.10/dist-packages (from python-dateutil>=2.8.2->pandas!=2.1.0,>=1.4->statsmodels) (1.16.0)\n",
      "Requirement already satisfied: linearmodels in /usr/local/lib/python3.10/dist-packages (6.1)\n",
      "Requirement already satisfied: numpy<3,>=1.22.3 in /usr/local/lib/python3.10/dist-packages (from linearmodels) (1.24.3)\n",
      "Requirement already satisfied: pandas>=1.4.0 in /usr/local/lib/python3.10/dist-packages (from linearmodels) (2.2.2)\n",
      "Requirement already satisfied: scipy>=1.8.0 in /usr/local/lib/python3.10/dist-packages (from linearmodels) (1.13.1)\n",
      "Requirement already satisfied: statsmodels>=0.13.0 in /usr/local/lib/python3.10/dist-packages (from linearmodels) (0.14.4)\n",
      "Requirement already satisfied: mypy-extensions>=0.4 in /usr/local/lib/python3.10/dist-packages (from linearmodels) (1.0.0)\n",
      "Requirement already satisfied: Cython>=3.0.10 in /usr/local/lib/python3.10/dist-packages (from linearmodels) (3.0.11)\n",
      "Requirement already satisfied: pyhdfe>=0.1 in /usr/local/lib/python3.10/dist-packages (from linearmodels) (0.2.0)\n",
      "Requirement already satisfied: formulaic>=1.0.0 in /usr/local/lib/python3.10/dist-packages (from linearmodels) (1.0.2)\n",
      "Requirement already satisfied: setuptools-scm<9.0.0,>=8.0.0 in /usr/local/lib/python3.10/dist-packages (from setuptools-scm[toml]<9.0.0,>=8.0.0->linearmodels) (8.1.0)\n",
      "Requirement already satisfied: interface-meta>=1.2.0 in /usr/local/lib/python3.10/dist-packages (from formulaic>=1.0.0->linearmodels) (1.3.0)\n",
      "Requirement already satisfied: typing-extensions>=4.2.0 in /usr/local/lib/python3.10/dist-packages (from formulaic>=1.0.0->linearmodels) (4.12.2)\n",
      "Requirement already satisfied: wrapt>=1.0 in /usr/local/lib/python3.10/dist-packages (from formulaic>=1.0.0->linearmodels) (1.16.0)\n",
      "Requirement already satisfied: python-dateutil>=2.8.2 in /usr/local/lib/python3.10/dist-packages (from pandas>=1.4.0->linearmodels) (2.8.2)\n",
      "Requirement already satisfied: pytz>=2020.1 in /usr/local/lib/python3.10/dist-packages (from pandas>=1.4.0->linearmodels) (2024.2)\n",
      "Requirement already satisfied: tzdata>=2022.7 in /usr/local/lib/python3.10/dist-packages (from pandas>=1.4.0->linearmodels) (2024.2)\n",
      "Requirement already satisfied: packaging>=20 in /usr/local/lib/python3.10/dist-packages (from setuptools-scm<9.0.0,>=8.0.0->setuptools-scm[toml]<9.0.0,>=8.0.0->linearmodels) (24.2)\n",
      "Requirement already satisfied: setuptools in /usr/local/lib/python3.10/dist-packages (from setuptools-scm<9.0.0,>=8.0.0->setuptools-scm[toml]<9.0.0,>=8.0.0->linearmodels) (75.1.0)\n",
      "Requirement already satisfied: tomli>=1 in /usr/local/lib/python3.10/dist-packages (from setuptools-scm<9.0.0,>=8.0.0->setuptools-scm[toml]<9.0.0,>=8.0.0->linearmodels) (2.1.0)\n",
      "Requirement already satisfied: patsy>=0.5.6 in /usr/local/lib/python3.10/dist-packages (from statsmodels>=0.13.0->linearmodels) (1.0.1)\n",
      "Requirement already satisfied: six>=1.5 in /usr/local/lib/python3.10/dist-packages (from python-dateutil>=2.8.2->pandas>=1.4.0->linearmodels) (1.16.0)\n",
      "Requirement already satisfied: matplotlib in /usr/local/lib/python3.10/dist-packages (3.8.0)\n",
      "Requirement already satisfied: contourpy>=1.0.1 in /usr/local/lib/python3.10/dist-packages (from matplotlib) (1.3.1)\n",
      "Requirement already satisfied: cycler>=0.10 in /usr/local/lib/python3.10/dist-packages (from matplotlib) (0.12.1)\n",
      "Requirement already satisfied: fonttools>=4.22.0 in /usr/local/lib/python3.10/dist-packages (from matplotlib) (4.55.0)\n",
      "Requirement already satisfied: kiwisolver>=1.0.1 in /usr/local/lib/python3.10/dist-packages (from matplotlib) (1.4.7)\n",
      "Requirement already satisfied: numpy<2,>=1.21 in /usr/local/lib/python3.10/dist-packages (from matplotlib) (1.24.3)\n",
      "Requirement already satisfied: packaging>=20.0 in /usr/local/lib/python3.10/dist-packages (from matplotlib) (24.2)\n",
      "Requirement already satisfied: pillow>=6.2.0 in /usr/local/lib/python3.10/dist-packages (from matplotlib) (11.0.0)\n",
      "Requirement already satisfied: pyparsing>=2.3.1 in /usr/local/lib/python3.10/dist-packages (from matplotlib) (3.2.0)\n",
      "Requirement already satisfied: python-dateutil>=2.7 in /usr/local/lib/python3.10/dist-packages (from matplotlib) (2.8.2)\n",
      "Requirement already satisfied: six>=1.5 in /usr/local/lib/python3.10/dist-packages (from python-dateutil>=2.7->matplotlib) (1.16.0)\n",
      "Requirement already satisfied: pyfixest in /usr/local/lib/python3.10/dist-packages (0.26.2)\n",
      "Requirement already satisfied: formulaic>=1.0.0 in /usr/local/lib/python3.10/dist-packages (from pyfixest) (1.0.2)\n",
      "Requirement already satisfied: great-tables>=0.10.0 in /usr/local/lib/python3.10/dist-packages (from pyfixest) (0.14.0)\n",
      "Requirement already satisfied: jinja2<4,>=3.1.4 in /usr/local/lib/python3.10/dist-packages (from pyfixest) (3.1.4)\n",
      "Requirement already satisfied: lets-plot>=4.0.0 in /usr/local/lib/python3.10/dist-packages (from pyfixest) (4.5.1)\n",
      "Requirement already satisfied: numba>=0.58.0 in /usr/local/lib/python3.10/dist-packages (from pyfixest) (0.60.0)\n",
      "Requirement already satisfied: numpy>=1.19.0 in /usr/local/lib/python3.10/dist-packages (from pyfixest) (1.24.3)\n",
      "Requirement already satisfied: pandas>=1.1.0 in /usr/local/lib/python3.10/dist-packages (from pyfixest) (2.2.2)\n",
      "Requirement already satisfied: polars>=0.20.1 in /usr/local/lib/python3.10/dist-packages (from pyfixest) (1.9.0)\n",
      "Requirement already satisfied: scipy>=1.6 in /usr/local/lib/python3.10/dist-packages (from pyfixest) (1.13.1)\n",
      "Requirement already satisfied: seaborn>=0.13.2 in /usr/local/lib/python3.10/dist-packages (from pyfixest) (0.13.2)\n",
      "Requirement already satisfied: tabulate>=0.9.0 in /usr/local/lib/python3.10/dist-packages (from pyfixest) (0.9.0)\n",
      "Requirement already satisfied: tqdm==4.66.4 in /usr/local/lib/python3.10/dist-packages (from pyfixest) (4.66.4)\n",
      "Requirement already satisfied: interface-meta>=1.2.0 in /usr/local/lib/python3.10/dist-packages (from formulaic>=1.0.0->pyfixest) (1.3.0)\n",
      "Requirement already satisfied: typing-extensions>=4.2.0 in /usr/local/lib/python3.10/dist-packages (from formulaic>=1.0.0->pyfixest) (4.12.2)\n",
      "Requirement already satisfied: wrapt>=1.0 in /usr/local/lib/python3.10/dist-packages (from formulaic>=1.0.0->pyfixest) (1.16.0)\n",
      "Requirement already satisfied: commonmark>=0.9.1 in /usr/local/lib/python3.10/dist-packages (from great-tables>=0.10.0->pyfixest) (0.9.1)\n",
      "Requirement already satisfied: htmltools>=0.4.1 in /usr/local/lib/python3.10/dist-packages (from great-tables>=0.10.0->pyfixest) (0.6.0)\n",
      "Requirement already satisfied: importlib-metadata in /usr/local/lib/python3.10/dist-packages (from great-tables>=0.10.0->pyfixest) (8.5.0)\n",
      "Requirement already satisfied: Babel>=2.13.1 in /usr/local/lib/python3.10/dist-packages (from great-tables>=0.10.0->pyfixest) (2.16.0)\n",
      "Requirement already satisfied: importlib-resources in /usr/local/lib/python3.10/dist-packages (from great-tables>=0.10.0->pyfixest) (6.4.5)\n",
      "Requirement already satisfied: MarkupSafe>=2.0 in /usr/local/lib/python3.10/dist-packages (from jinja2<4,>=3.1.4->pyfixest) (3.0.2)\n",
      "Requirement already satisfied: pypng in /usr/local/lib/python3.10/dist-packages (from lets-plot>=4.0.0->pyfixest) (0.20220715.0)\n",
      "Requirement already satisfied: palettable in /usr/local/lib/python3.10/dist-packages (from lets-plot>=4.0.0->pyfixest) (3.3.3)\n",
      "Requirement already satisfied: llvmlite<0.44,>=0.43.0dev0 in /usr/local/lib/python3.10/dist-packages (from numba>=0.58.0->pyfixest) (0.43.0)\n",
      "Requirement already satisfied: python-dateutil>=2.8.2 in /usr/local/lib/python3.10/dist-packages (from pandas>=1.1.0->pyfixest) (2.8.2)\n",
      "Requirement already satisfied: pytz>=2020.1 in /usr/local/lib/python3.10/dist-packages (from pandas>=1.1.0->pyfixest) (2024.2)\n",
      "Requirement already satisfied: tzdata>=2022.7 in /usr/local/lib/python3.10/dist-packages (from pandas>=1.1.0->pyfixest) (2024.2)\n",
      "Requirement already satisfied: matplotlib!=3.6.1,>=3.4 in /usr/local/lib/python3.10/dist-packages (from seaborn>=0.13.2->pyfixest) (3.8.0)\n",
      "Requirement already satisfied: packaging>=20.9 in /usr/local/lib/python3.10/dist-packages (from htmltools>=0.4.1->great-tables>=0.10.0->pyfixest) (24.2)\n",
      "Requirement already satisfied: contourpy>=1.0.1 in /usr/local/lib/python3.10/dist-packages (from matplotlib!=3.6.1,>=3.4->seaborn>=0.13.2->pyfixest) (1.3.1)\n",
      "Requirement already satisfied: cycler>=0.10 in /usr/local/lib/python3.10/dist-packages (from matplotlib!=3.6.1,>=3.4->seaborn>=0.13.2->pyfixest) (0.12.1)\n",
      "Requirement already satisfied: fonttools>=4.22.0 in /usr/local/lib/python3.10/dist-packages (from matplotlib!=3.6.1,>=3.4->seaborn>=0.13.2->pyfixest) (4.55.0)\n",
      "Requirement already satisfied: kiwisolver>=1.0.1 in /usr/local/lib/python3.10/dist-packages (from matplotlib!=3.6.1,>=3.4->seaborn>=0.13.2->pyfixest) (1.4.7)\n",
      "Requirement already satisfied: pillow>=6.2.0 in /usr/local/lib/python3.10/dist-packages (from matplotlib!=3.6.1,>=3.4->seaborn>=0.13.2->pyfixest) (11.0.0)\n",
      "Requirement already satisfied: pyparsing>=2.3.1 in /usr/local/lib/python3.10/dist-packages (from matplotlib!=3.6.1,>=3.4->seaborn>=0.13.2->pyfixest) (3.2.0)\n",
      "Requirement already satisfied: six>=1.5 in /usr/local/lib/python3.10/dist-packages (from python-dateutil>=2.8.2->pandas>=1.1.0->pyfixest) (1.16.0)\n",
      "Requirement already satisfied: zipp>=3.20 in /usr/local/lib/python3.10/dist-packages (from importlib-metadata->great-tables>=0.10.0->pyfixest) (3.21.0)\n",
      "Requirement already satisfied: drdid in /usr/local/lib/python3.10/dist-packages (1.1.5)\n",
      "Requirement already satisfied: pandas in /usr/local/lib/python3.10/dist-packages (from drdid) (2.2.2)\n",
      "Requirement already satisfied: numpy<=1.24.3 in /usr/local/lib/python3.10/dist-packages (from drdid) (1.24.3)\n",
      "Requirement already satisfied: statsmodels in /usr/local/lib/python3.10/dist-packages (from drdid) (0.14.4)\n",
      "Requirement already satisfied: python-dateutil>=2.8.2 in /usr/local/lib/python3.10/dist-packages (from pandas->drdid) (2.8.2)\n",
      "Requirement already satisfied: pytz>=2020.1 in /usr/local/lib/python3.10/dist-packages (from pandas->drdid) (2024.2)\n",
      "Requirement already satisfied: tzdata>=2022.7 in /usr/local/lib/python3.10/dist-packages (from pandas->drdid) (2024.2)\n",
      "Requirement already satisfied: scipy!=1.9.2,>=1.8 in /usr/local/lib/python3.10/dist-packages (from statsmodels->drdid) (1.13.1)\n",
      "Requirement already satisfied: patsy>=0.5.6 in /usr/local/lib/python3.10/dist-packages (from statsmodels->drdid) (1.0.1)\n",
      "Requirement already satisfied: packaging>=21.3 in /usr/local/lib/python3.10/dist-packages (from statsmodels->drdid) (24.2)\n",
      "Requirement already satisfied: six>=1.5 in /usr/local/lib/python3.10/dist-packages (from python-dateutil>=2.8.2->pandas->drdid) (1.16.0)\n",
      "Requirement already satisfied: requests in /usr/local/lib/python3.10/dist-packages (2.32.3)\n",
      "Requirement already satisfied: charset-normalizer<4,>=2 in /usr/local/lib/python3.10/dist-packages (from requests) (3.4.0)\n",
      "Requirement already satisfied: idna<4,>=2.5 in /usr/local/lib/python3.10/dist-packages (from requests) (3.10)\n",
      "Requirement already satisfied: urllib3<3,>=1.21.1 in /usr/local/lib/python3.10/dist-packages (from requests) (2.2.3)\n",
      "Requirement already satisfied: certifi>=2017.4.17 in /usr/local/lib/python3.10/dist-packages (from requests) (2024.8.30)\n",
      "Requirement already satisfied: pyreadstat in /usr/local/lib/python3.10/dist-packages (1.2.8)\n",
      "Requirement already satisfied: pandas>=1.2.0 in /usr/local/lib/python3.10/dist-packages (from pyreadstat) (2.2.2)\n",
      "Requirement already satisfied: numpy>=1.22.4 in /usr/local/lib/python3.10/dist-packages (from pandas>=1.2.0->pyreadstat) (1.24.3)\n",
      "Requirement already satisfied: python-dateutil>=2.8.2 in /usr/local/lib/python3.10/dist-packages (from pandas>=1.2.0->pyreadstat) (2.8.2)\n",
      "Requirement already satisfied: pytz>=2020.1 in /usr/local/lib/python3.10/dist-packages (from pandas>=1.2.0->pyreadstat) (2024.2)\n",
      "Requirement already satisfied: tzdata>=2022.7 in /usr/local/lib/python3.10/dist-packages (from pandas>=1.2.0->pyreadstat) (2024.2)\n",
      "Requirement already satisfied: six>=1.5 in /usr/local/lib/python3.10/dist-packages (from python-dateutil>=2.8.2->pandas>=1.2.0->pyreadstat) (1.16.0)\n"
     ]
    }
   ],
   "source": [
    "!pip install csdid\n",
    "!pip install pandas\n",
    "!pip install statsmodels\n",
    "!pip install linearmodels\n",
    "!pip install matplotlib\n",
    "!pip install pyfixest\n",
    "!pip install drdid\n",
    "!pip install requests\n",
    "!pip install pyreadstat"
   ]
  },
  {
   "cell_type": "markdown",
   "metadata": {
    "id": "FfHfqgznMe56"
   },
   "source": [
    "Y luego las importamos"
   ]
  },
  {
   "cell_type": "code",
   "execution_count": 3,
   "metadata": {
    "id": "qCPtuyqj27uT"
   },
   "outputs": [
    {
     "data": {
      "text/html": [
       "\n",
       "            <div id=\"qErTQu\"></div>\n",
       "            <script type=\"text/javascript\" data-lets-plot-script=\"library\">\n",
       "                if(!window.letsPlotCallQueue) {\n",
       "                    window.letsPlotCallQueue = [];\n",
       "                }; \n",
       "                window.letsPlotCall = function(f) {\n",
       "                    window.letsPlotCallQueue.push(f);\n",
       "                };\n",
       "                (function() {\n",
       "                    var script = document.createElement(\"script\");\n",
       "                    script.type = \"text/javascript\";\n",
       "                    script.src = \"https://cdn.jsdelivr.net/gh/JetBrains/lets-plot@v4.5.1/js-package/distr/lets-plot.min.js\";\n",
       "                    script.onload = function() {\n",
       "                        window.letsPlotCall = function(f) {f();};\n",
       "                        window.letsPlotCallQueue.forEach(function(f) {f();});\n",
       "                        window.letsPlotCallQueue = [];\n",
       "                        \n",
       "                    };\n",
       "                    script.onerror = function(event) {\n",
       "                        window.letsPlotCall = function(f) {};    // noop\n",
       "                        window.letsPlotCallQueue = [];\n",
       "                        var div = document.createElement(\"div\");\n",
       "                        div.style.color = 'darkred';\n",
       "                        div.textContent = 'Error loading Lets-Plot JS';\n",
       "                        document.getElementById(\"qErTQu\").appendChild(div);\n",
       "                    };\n",
       "                    var e = document.getElementById(\"qErTQu\");\n",
       "                    e.appendChild(script);\n",
       "                })()\n",
       "            </script>\n",
       "            "
      ]
     },
     "metadata": {},
     "output_type": "display_data"
    },
    {
     "data": {
      "text/html": [
       "\n",
       "            <div id=\"K2NHOv\"></div>\n",
       "            <script type=\"text/javascript\" data-lets-plot-script=\"library\">\n",
       "                if(!window.letsPlotCallQueue) {\n",
       "                    window.letsPlotCallQueue = [];\n",
       "                }; \n",
       "                window.letsPlotCall = function(f) {\n",
       "                    window.letsPlotCallQueue.push(f);\n",
       "                };\n",
       "                (function() {\n",
       "                    var script = document.createElement(\"script\");\n",
       "                    script.type = \"text/javascript\";\n",
       "                    script.src = \"https://cdn.jsdelivr.net/gh/JetBrains/lets-plot@v4.5.1/js-package/distr/lets-plot.min.js\";\n",
       "                    script.onload = function() {\n",
       "                        window.letsPlotCall = function(f) {f();};\n",
       "                        window.letsPlotCallQueue.forEach(function(f) {f();});\n",
       "                        window.letsPlotCallQueue = [];\n",
       "                        \n",
       "                    };\n",
       "                    script.onerror = function(event) {\n",
       "                        window.letsPlotCall = function(f) {};    // noop\n",
       "                        window.letsPlotCallQueue = [];\n",
       "                        var div = document.createElement(\"div\");\n",
       "                        div.style.color = 'darkred';\n",
       "                        div.textContent = 'Error loading Lets-Plot JS';\n",
       "                        document.getElementById(\"K2NHOv\").appendChild(div);\n",
       "                    };\n",
       "                    var e = document.getElementById(\"K2NHOv\");\n",
       "                    e.appendChild(script);\n",
       "                })()\n",
       "            </script>\n",
       "            "
      ]
     },
     "metadata": {},
     "output_type": "display_data"
    }
   ],
   "source": [
    "from csdid.att_gt import ATTgt\n",
    "import pandas as pd\n",
    "import statsmodels.api as sm\n",
    "from linearmodels.panel import PanelOLS\n",
    "import matplotlib.pyplot as plt\n",
    "from statsmodels.formula.api import ols\n",
    "import numpy as np\n",
    "import matplotlib.pyplot as plt\n",
    "from statsmodels.graphics.tsaplots import plot_acf\n",
    "import warnings\n",
    "warnings.filterwarnings(\"ignore\")\n",
    "import csdid\n",
    "import pyfixest as pf\n",
    "import requests\n",
    "import pyreadstat\n",
    "import statsmodels.formula.api as smf"
   ]
  },
  {
   "cell_type": "markdown",
   "metadata": {
    "id": "TcHHDusjHjrg",
    "jp-MarkdownHeadingCollapsed": true
   },
   "source": [
    "# **Pregunta 1**"
   ]
  },
  {
   "cell_type": "code",
   "execution_count": null,
   "metadata": {
    "colab": {
     "base_uri": "https://localhost:8080/"
    },
    "id": "B2G4PWE4HmIq",
    "outputId": "55af6eaa-3d13-4ce8-9b1d-c00e4b8f3b18"
   },
   "outputs": [
    {
     "name": "stdout",
     "output_type": "stream",
     "text": [
      "                            OLS Regression Results                            \n",
      "==============================================================================\n",
      "Dep. Variable:            hourly_wage   R-squared:                       1.000\n",
      "Model:                            OLS   Adj. R-squared:                  1.000\n",
      "Method:                 Least Squares   F-statistic:                 3.215e+27\n",
      "Date:                Mon, 02 Dec 2024   Prob (F-statistic):           2.39e-82\n",
      "Time:                        01:52:19   Log-Likelihood:                 473.88\n",
      "No. Observations:                  16   AIC:                            -927.8\n",
      "Df Residuals:                       6   BIC:                            -920.0\n",
      "Df Model:                           9                                         \n",
      "Covariance Type:            nonrobust                                         \n",
      "===================================================================================\n",
      "                      coef    std err          t      P>|t|      [0.025      0.975]\n",
      "-----------------------------------------------------------------------------------\n",
      "Intercept          15.5000   4.28e-14   3.62e+14      0.000      15.500      15.500\n",
      "C(state)[T.NY]     -0.2500   1.92e-14   -1.3e+13      0.000      -0.250      -0.250\n",
      "C(year)[T.2013]     1.0000   5.42e-14   1.84e+13      0.000       1.000       1.000\n",
      "C(year)[T.2014]     2.0000   5.42e-14   3.69e+13      0.000       2.000       2.000\n",
      "C(year)[T.2015]     3.0000   5.42e-14   5.53e+13      0.000       3.000       3.000\n",
      "C(year)[T.2016]    -0.4000   3.47e-14  -1.15e+13      0.000      -0.400      -0.400\n",
      "C(year)[T.2017]     0.6000   3.47e-14   1.73e+13      0.000       0.600       0.600\n",
      "C(year)[T.2018]     1.6000   3.47e-14   4.61e+13      0.000       1.600       1.600\n",
      "C(year)[T.2019]     2.6000   3.47e-14   7.49e+13      0.000       2.600       2.600\n",
      "treatment          -0.2500   1.92e-14   -1.3e+13      0.000      -0.250      -0.250\n",
      "post                4.4000   4.06e-14   1.08e+14      0.000       4.400       4.400\n",
      "treatment:post  -1.354e-14   5.42e-14     -0.250      0.811   -1.46e-13    1.19e-13\n",
      "==============================================================================\n",
      "Omnibus:                        1.228   Durbin-Watson:                   0.296\n",
      "Prob(Omnibus):                  0.541   Jarque-Bera (JB):                0.986\n",
      "Skew:                           0.390   Prob(JB):                        0.611\n",
      "Kurtosis:                       2.067   Cond. No.                     3.63e+16\n",
      "==============================================================================\n",
      "\n",
      "Notes:\n",
      "[1] Standard Errors assume that the covariance matrix of the errors is correctly specified.\n",
      "[2] The smallest eigenvalue is 2.66e-32. This might indicate that there are\n",
      "strong multicollinearity problems or that the design matrix is singular.\n"
     ]
    }
   ],
   "source": [
    "import pandas as pd\n",
    "import statsmodels.formula.api as smf\n",
    "\n",
    "# Datos comparativos de NY y NJ, creamos dataframe\n",
    "data = {\n",
    "    'state': ['NY', 'NY', 'NY', 'NY', 'NY', 'NY', 'NY', 'NY', 'NJ', 'NJ', 'NJ', 'NJ', 'NJ', 'NJ', 'NJ', 'NJ'],\n",
    "    'year': [2012, 2013, 2014, 2015, 2016, 2017, 2018, 2019, 2012, 2013, 2014, 2015, 2016, 2017, 2018, 2019],\n",
    "    'hourly_wage': [15, 16, 17, 18, 19, 20, 21, 22, 15.5, 16.5, 17.5, 18.5, 19.5, 20.5, 21.5, 22.5]\n",
    "}\n",
    "\n",
    "# Crear el DataFrame\n",
    "df = pd.DataFrame(data)\n",
    "\n",
    "# Crear variables de tratamiento y post-intervención\n",
    "df['treatment'] = (df['state'] == 'NY').astype(int)\n",
    "df['post'] = (df['year'] >= 2016).astype(int)\n",
    "\n",
    "# Interacción para DiD\n",
    "df['did'] = df['treatment'] * df['post']\n",
    "\n",
    "# Estimar el modelo con efectos fijos de estado y año\n",
    "model = smf.ols('hourly_wage ~ treatment * post + C(state) + C(year)', data=df).fit()\n",
    "print(model.summary())\n"
   ]
  },
  {
   "cell_type": "markdown",
   "metadata": {
    "id": "FdOe-goDsJX5"
   },
   "source": [
    "La interacción entre el tratamiento (estar en Nueva York) y el período posterior a la intervención tiene un coeficiente cercano a cero y no es significativo (con un valor p de 0.811). Esto sugiere que la política de Paid Family Leave no tuvo un impacto significativo en los salarios de las mujeres en Nueva York en comparación con las mujeres en estados vecinos. Aunque no se ve un efecto significativo de la política en la interacción, el coeficiente post muestra un aumento de 4.4 unidades en los salarios después de 2015. Este aumento podría deberse a otros factores económicos o políticas diferentes, pero no es directamente atribuible a la política de licencia familiar remunerada según los resultados."
   ]
  },
  {
   "cell_type": "markdown",
   "metadata": {
    "id": "xb5y8NB0Hez4"
   },
   "source": [
    "# **Pregunta 2**"
   ]
  },
  {
   "cell_type": "markdown",
   "metadata": {
    "id": "fJ7sVIuQ3qbb"
   },
   "source": [
    "#### Datos"
   ]
  },
  {
   "cell_type": "markdown",
   "metadata": {
    "id": "_8I9qFUz3rrr"
   },
   "source": [
    "Cargamos la base de datos"
   ]
  },
  {
   "cell_type": "code",
   "execution_count": 5,
   "metadata": {
    "colab": {
     "base_uri": "https://localhost:8080/"
    },
    "id": "sP40hf_ScXAN",
    "outputId": "cc934ee6-efde-469a-c1e5-37d6cebb92b3"
   },
   "outputs": [
    {
     "name": "stdout",
     "output_type": "stream",
     "text": [
      "   fipstate   naics   emp    qp1      ap   est    year\n",
      "0         1  113///  8207  44757  195720  1082  1998.0\n",
      "1         1  114///    93    363    1532    30  1998.0\n",
      "2         1  115///  1614  10181   45519   194  1998.0\n",
      "3         1  211///   804   9477   38146    38  1998.0\n",
      "4         1  212///  7074  79136  318295   159  1998.0\n"
     ]
    }
   ],
   "source": [
    "# Creamos un enlace directo al archivo usando el servicio raw de GitHub\n",
    "url = \"https://raw.githubusercontent.com/micaelagn/Micaela-G/fb8d6081a1af9891f71ca97f01424bcad144fcff/PC1/datacbp.dta\"\n",
    "\n",
    "# Cargamos el archivo .dta\n",
    "data = pd.read_stata(url)\n",
    "\n",
    "# Y verificamos que se cargó correctamente mostrando las primeras filas\n",
    "print(data.head())"
   ]
  },
  {
   "cell_type": "markdown",
   "metadata": {
    "id": "HKh8qY0U3v36"
   },
   "source": [
    "#### 1. **¿Cuál es el nivel de observación?**"
   ]
  },
  {
   "cell_type": "markdown",
   "metadata": {
    "id": "8PBQ4uTm3xQL"
   },
   "source": [
    "La unidad de análisis son los establecimientos empresariales y el análisis se centrará en comparar los cambios a nivel de los años para capturar el impacto temporal del evento de la entrada de China a la OMC en 2001."
   ]
  },
  {
   "cell_type": "markdown",
   "metadata": {
    "id": "LZLtyjne3y4S"
   },
   "source": [
    "#### 2. **Construye 1 variable dummy llamada  “post_china”, donde post_china = 1 para los años >= 2001 y 0 en caso contrario.**"
   ]
  },
  {
   "cell_type": "code",
   "execution_count": 7,
   "metadata": {
    "colab": {
     "base_uri": "https://localhost:8080/"
    },
    "id": "gMwbWupB31zW",
    "outputId": "189479d0-4987-4003-d338-c0d105efbce1"
   },
   "outputs": [
    {
     "name": "stdout",
     "output_type": "stream",
     "text": [
      "   fipstate   naics   emp    qp1      ap   est    year  post_china\n",
      "0         1  113///  8207  44757  195720  1082  1998.0           0\n",
      "1         1  114///    93    363    1532    30  1998.0           0\n",
      "2         1  115///  1614  10181   45519   194  1998.0           0\n",
      "3         1  211///   804   9477   38146    38  1998.0           0\n",
      "4         1  212///  7074  79136  318295   159  1998.0           0\n"
     ]
    }
   ],
   "source": [
    "# Crear la variable 'post_china'\n",
    "data['post_china'] = (data['year'] >= 2001).astype(int)\n",
    "\n",
    "# Verificar las primeras filas para asegurarse de que la variable fue creada correctamente\n",
    "print(data.head())"
   ]
  },
  {
   "cell_type": "markdown",
   "metadata": {
    "id": "qVJZdiFP30cy"
   },
   "source": [
    "#### 3. **Construya una variable ficticia llamada “manuf”, donde manuf=1 para todas las observaciones que comiencen con el código naics “3” –que es manufactura– y 0 en caso contrario.**"
   ]
  },
  {
   "cell_type": "code",
   "execution_count": 9,
   "metadata": {
    "colab": {
     "base_uri": "https://localhost:8080/"
    },
    "id": "forpmM6O3u0b",
    "outputId": "f3380e04-2078-4d25-eea9-122be2ddb0d4"
   },
   "outputs": [
    {
     "name": "stdout",
     "output_type": "stream",
     "text": [
      "   fipstate   naics   emp    qp1      ap   est    year  post_china  manuf\n",
      "0         1  113///  8207  44757  195720  1082  1998.0           0      0\n",
      "1         1  114///    93    363    1532    30  1998.0           0      0\n",
      "2         1  115///  1614  10181   45519   194  1998.0           0      0\n",
      "3         1  211///   804   9477   38146    38  1998.0           0      0\n",
      "4         1  212///  7074  79136  318295   159  1998.0           0      0\n"
     ]
    }
   ],
   "source": [
    "# Crear la variable 'manuf' donde es 1 si el código NAICS empieza con \"3\" y 0 si no\n",
    "data['manuf'] = data['naics'].astype(str).str.startswith('3').astype(int)\n",
    "\n",
    "# Verificar las primeras filas para asegurarse de que la variable fue creada correctamente\n",
    "print(data.head())"
   ]
  },
  {
   "cell_type": "markdown",
   "metadata": {
    "id": "_xW_DoDT36P6"
   },
   "source": [
    "#### 4. **Construya los valores necesarios para generar la estimación de diferencias en diferencias (es decir, la matriz 2x2) del efecto de la entrada de China en la OMC sobre el empleo (emp). Sugerencia: Defina claramente cuál es su grupo de tratamiento frente al grupo de control y el momento de la intervención. Interprete los resultados.**"
   ]
  },
  {
   "cell_type": "code",
   "execution_count": 11,
   "metadata": {
    "colab": {
     "base_uri": "https://localhost:8080/"
    },
    "id": "Wk0mKdnZ35_q",
    "outputId": "c19f7bd8-2209-41cf-c42c-28cea500386f"
   },
   "outputs": [
    {
     "name": "stdout",
     "output_type": "stream",
     "text": [
      "Matriz 2x2 de Diferencias en Diferencias:\n",
      "                           Pre-2001     Post-2001\n",
      "Control (manuf=0)      29539.341747  30579.647311\n",
      "Tratamiento (manuf=1)  15619.126095  13366.851284\n",
      "\n",
      "Cambios en los grupos:\n",
      "- Cambio en el grupo de tratamiento: -2252.2748\n",
      "- Cambio en el grupo de control: 1040.3056\n",
      "\n",
      "Estimación de la diferencia en diferencias (DiD): -3292.5804\n"
     ]
    }
   ],
   "source": [
    "# Asegúrate de tener las variables 'manuf', 'year', 'emp' y 'post_china' en tu DataFrame\n",
    "\n",
    "# 1. Crear las celdas de la matriz 2x2\n",
    "\n",
    "# Grupo de tratamiento (manuf = 1) y antes de 2001 (pre-2001)\n",
    "treatment_pre = data[(data['manuf'] == 1) & (data['year'] < 2001)]['emp'].mean()\n",
    "\n",
    "# Grupo de tratamiento (manuf = 1) y después de 2001 (post-2001)\n",
    "treatment_post = data[(data['manuf'] == 1) & (data['year'] >= 2001)]['emp'].mean()\n",
    "\n",
    "# Grupo de control (manuf = 0) y antes de 2001 (pre-2001)\n",
    "control_pre = data[(data['manuf'] == 0) & (data['year'] < 2001)]['emp'].mean()\n",
    "\n",
    "# Grupo de control (manuf = 0) y después de 2001 (post-2001)\n",
    "control_post = data[(data['manuf'] == 0) & (data['year'] >= 2001)]['emp'].mean()\n",
    "\n",
    "# 2. Construir la matriz 2x2 de diferencias\n",
    "\n",
    "print(\"Matriz 2x2 de Diferencias en Diferencias:\")\n",
    "\n",
    "# Construir la matriz 2x2\n",
    "matrix = pd.DataFrame({\n",
    "    \"Pre-2001\": [control_pre, treatment_pre],\n",
    "    \"Post-2001\": [control_post, treatment_post]\n",
    "}, index=[\"Control (manuf=0)\", \"Tratamiento (manuf=1)\"])\n",
    "\n",
    "print(matrix)\n",
    "\n",
    "# Calcular los cambios y la estimación DiD\n",
    "change_treatment = treatment_post - treatment_pre\n",
    "change_control = control_post - control_pre\n",
    "did_estimate = change_treatment - change_control\n",
    "\n",
    "print(\"\\nCambios en los grupos:\")\n",
    "print(f\"- Cambio en el grupo de tratamiento: {change_treatment:.4f}\")\n",
    "print(f\"- Cambio en el grupo de control: {change_control:.4f}\")\n",
    "\n",
    "print(f\"\\nEstimación de la diferencia en diferencias (DiD): {did_estimate:.4f}\")"
   ]
  },
  {
   "cell_type": "markdown",
   "metadata": {
    "id": "FrDMB9qwuWmy"
   },
   "source": [
    "La matriz 2x2 muestra que, antes de 2001, el empleo promedio en el grupo de tratamiento (manufactura) era significativamente menor que en el grupo de control (no manufactura), y ambos grupos experimentaron cambios en el empleo después de 2001. El grupo de tratamiento disminuyó en -2252.27 empleos, mientras que el grupo de control aumentó en 1040.31 empleos. La estimación de diferencias en diferencias (DiD) de -3292.58 indica que el ingreso de China a la OMC tuvo un efecto negativo significativo en el empleo del sector manufacturero, sugiriendo una reducción neta atribuible al evento."
   ]
  },
  {
   "cell_type": "markdown",
   "metadata": {
    "id": "_uQPINqU4AP6"
   },
   "source": [
    "#### 5. **Estime una regresión de diferencias en diferencias y asegúrese de obtener la misma estimación de diferencias en diferencias que en la parte 4.**"
   ]
  },
  {
   "cell_type": "code",
   "execution_count": 13,
   "metadata": {
    "colab": {
     "base_uri": "https://localhost:8080/"
    },
    "id": "D5kqITpM4Ewq",
    "outputId": "2f2fa7c9-dcf4-47a2-d876-3558ab9efd3b"
   },
   "outputs": [
    {
     "name": "stdout",
     "output_type": "stream",
     "text": [
      "                            OLS Regression Results                            \n",
      "==============================================================================\n",
      "Dep. Variable:                    emp   R-squared:                       0.013\n",
      "Model:                            OLS   Adj. R-squared:                  0.013\n",
      "Method:                 Least Squares   F-statistic:                     176.0\n",
      "Date:                Sun, 01 Dec 2024   Prob (F-statistic):          2.44e-113\n",
      "Time:                        22:06:47   Log-Likelihood:            -4.7943e+05\n",
      "No. Observations:               38606   AIC:                         9.589e+05\n",
      "Df Residuals:                   38602   BIC:                         9.589e+05\n",
      "Df Model:                           3                                         \n",
      "Covariance Type:            nonrobust                                         \n",
      "====================================================================================\n",
      "                       coef    std err          t      P>|t|      [0.025      0.975]\n",
      "------------------------------------------------------------------------------------\n",
      "Intercept         2.954e+04    617.604     47.829      0.000    2.83e+04    3.07e+04\n",
      "post_china        1040.3056    750.916      1.385      0.166    -431.509    2512.120\n",
      "manuf            -1.392e+04   1225.605    -11.358      0.000   -1.63e+04   -1.15e+04\n",
      "post_china:manuf -3292.5804   1498.411     -2.197      0.028   -6229.504    -355.657\n",
      "==============================================================================\n",
      "Omnibus:                    52453.517   Durbin-Watson:                   1.278\n",
      "Prob(Omnibus):                  0.000   Jarque-Bera (JB):         16786597.626\n",
      "Skew:                           7.783   Prob(JB):                         0.00\n",
      "Kurtosis:                     103.962   Cond. No.                         8.08\n",
      "==============================================================================\n",
      "\n",
      "Notes:\n",
      "[1] Standard Errors assume that the covariance matrix of the errors is correctly specified.\n"
     ]
    }
   ],
   "source": [
    "# Asegurar que 'emp', 'manuf' y 'post_china' estén en tu DataFrame\n",
    "\n",
    "# Estimar el modelo Diff-in-Diff\n",
    "# La fórmula es 'emp ~ post_china * manuf' que incluye la interacción entre 'post_china' y 'manuf'\n",
    "model = smf.ols('emp ~ post_china * manuf', data=data).fit()\n",
    "\n",
    "# Imprimir los resultados de la regresión\n",
    "print(model.summary())"
   ]
  },
  {
   "cell_type": "markdown",
   "metadata": {
    "id": "LoVW8WCg4HT6"
   },
   "source": [
    "Los resultados de la regresión OLS estiman el efecto de la entrada de China a la Organización Mundial del Comercio (OMC) en 2001 sobre el empleo en el sector manufacturero de Estados Unidos. Para este análisis, se utilizó un modelo de diferencias en diferencias (DiD) que compara los cambios en el empleo en el sector manufacturero con los cambios en otros sectores antes y después del evento de interés (la entrada de China a la OMC).\n",
    "\n",
    "El coeficiente de post_china es 1,040.31, lo que indica que, en promedio, el empleo en todos los sectores aumentó en 1,040.31 unidades después de 2001, cuando China se unió a la OMC. Sin embargo, este efecto no es estadísticamente significativo (con un valor p de 0.166), lo que sugiere que la entrada de China, por sí sola, no tuvo un impacto claro sobre el empleo a nivel general en Estados Unidos.\n",
    "\n",
    "El coeficiente de manuf es -13,920.00, lo que implica que, antes de 2001, el empleo en el sector manufacturero era significativamente menor (en 13,920 unidades) en comparación con otros sectores. Este resultado es estadísticamente significativo (p < 0.000), lo que confirma que el sector manufacturero tenía menos empleo en comparación con otros sectores antes del evento.\n",
    "\n",
    "El coeficiente clave en el modelo es la interacción post_china:manuf, que tiene un valor de -3,292.58. Este coeficiente refleja el efecto diferencial de la entrada de China a la OMC sobre el empleo en el sector manufacturero después de 2001. El valor negativo sugiere que el empleo en el sector manufacturero disminuyó en promedio en 3,292.58 unidades debido a la entrada de China. Este efecto es estadísticamente significativo (p = 0.028), lo que implica que la entrada de China tuvo un impacto negativo en el empleo en el sector manufacturero, y este cambio es estadísticamente relevante.\n",
    "\n",
    "En resumen, la entrada de China a la OMC afectó negativamente al empleo en el sector manufacturero de Estados Unidos a partir de 2001, resultando en una disminución significativa del empleo en este sector. Sin embargo, no se observó un impacto general sobre el empleo en todos los sectores."
   ]
  },
  {
   "cell_type": "markdown",
   "metadata": {
    "id": "cXbI-A6Uv4Ii"
   },
   "source": [
    "#### 6. **Estime una regresión diferencial para el efecto de la entrada de China a la OMC en 2001 sobre el número de establecimiento (est), un salario medio (qp1/emp). Interpretar los resultados**."
   ]
  },
  {
   "cell_type": "code",
   "execution_count": 15,
   "metadata": {
    "colab": {
     "base_uri": "https://localhost:8080/"
    },
    "id": "WW9DItn44I0R",
    "outputId": "329b7b43-2fff-4629-ac68-7eed5ed81e26"
   },
   "outputs": [
    {
     "name": "stdout",
     "output_type": "stream",
     "text": [
      "                            OLS Regression Results                            \n",
      "==============================================================================\n",
      "Dep. Variable:                    est   R-squared:                       0.032\n",
      "Model:                            OLS   Adj. R-squared:                  0.032\n",
      "Method:                 Least Squares   F-statistic:                     425.9\n",
      "Date:                Sun, 01 Dec 2024   Prob (F-statistic):          3.20e-272\n",
      "Time:                        22:06:50   Log-Likelihood:            -3.7730e+05\n",
      "No. Observations:               38606   AIC:                         7.546e+05\n",
      "Df Residuals:                   38602   BIC:                         7.546e+05\n",
      "Df Model:                           3                                         \n",
      "Covariance Type:            nonrobust                                         \n",
      "====================================================================================\n",
      "                       coef    std err          t      P>|t|      [0.025      0.975]\n",
      "------------------------------------------------------------------------------------\n",
      "Intercept         2091.3099     43.836     47.708      0.000    2005.391    2177.229\n",
      "post_china          34.0692     53.298      0.639      0.523     -70.396     138.534\n",
      "manuf            -1753.0774     86.990    -20.153      0.000   -1923.580   -1582.575\n",
      "post_china:manuf   -52.5750    106.353     -0.494      0.621    -261.029     155.879\n",
      "==============================================================================\n",
      "Omnibus:                    54763.351   Durbin-Watson:                   1.664\n",
      "Prob(Omnibus):                  0.000   Jarque-Bera (JB):         22847322.407\n",
      "Skew:                           8.366   Prob(JB):                         0.00\n",
      "Kurtosis:                     120.998   Cond. No.                         8.08\n",
      "==============================================================================\n",
      "\n",
      "Notes:\n",
      "[1] Standard Errors assume that the covariance matrix of the errors is correctly specified.\n",
      "                            OLS Regression Results                            \n",
      "==============================================================================\n",
      "Dep. Variable:                avg_pay   R-squared:                       0.021\n",
      "Model:                            OLS   Adj. R-squared:                  0.021\n",
      "Method:                 Least Squares   F-statistic:                     241.7\n",
      "Date:                Sun, 01 Dec 2024   Prob (F-statistic):          3.76e-155\n",
      "Time:                        22:06:50   Log-Likelihood:            -1.0015e+05\n",
      "No. Observations:               33008   AIC:                         2.003e+05\n",
      "Df Residuals:                   33004   BIC:                         2.003e+05\n",
      "Df Model:                           3                                         \n",
      "Covariance Type:            nonrobust                                         \n",
      "====================================================================================\n",
      "                       coef    std err          t      P>|t|      [0.025      0.975]\n",
      "------------------------------------------------------------------------------------\n",
      "Intercept            7.1341      0.057    125.865      0.000       7.023       7.245\n",
      "post_china           1.4694      0.069     21.364      0.000       1.335       1.604\n",
      "manuf                0.9394      0.111      8.481      0.000       0.722       1.156\n",
      "post_china:manuf    -0.2150      0.135     -1.592      0.111      -0.480       0.050\n",
      "==============================================================================\n",
      "Omnibus:                    37077.832   Durbin-Watson:                   1.318\n",
      "Prob(Omnibus):                  0.000   Jarque-Bera (JB):          9525706.965\n",
      "Skew:                           5.439   Prob(JB):                         0.00\n",
      "Kurtosis:                      85.509   Cond. No.                         8.08\n",
      "==============================================================================\n",
      "\n",
      "Notes:\n",
      "[1] Standard Errors assume that the covariance matrix of the errors is correctly specified.\n"
     ]
    }
   ],
   "source": [
    "# Asegurarse de que no hay valores nulos en las columnas relevantes\n",
    "data = data.dropna(subset=['est', 'post_china', 'manuf', 'qp1', 'emp'])\n",
    "\n",
    "# Estimar la regresión para el número de establecimientos (est)\n",
    "model_est = smf.ols('est ~ post_china * manuf', data=data).fit()\n",
    "\n",
    "# Regresión para el número de establecimientos (est)\n",
    "model_est = smf.ols('est ~ post_china * manuf', data=data).fit()\n",
    "\n",
    "# Regresión para el salario promedio (qp1/emp)\n",
    "data['avg_pay'] = data['qp1'] / data['emp']  # Crear la variable de salario promedio\n",
    "model_avg_pay = smf.ols('avg_pay ~ post_china * manuf', data=data).fit()\n",
    "\n",
    "# Mostrar los resultados de las dos regresiones\n",
    "print(model_est.summary())\n",
    "print(model_avg_pay.summary())"
   ]
  },
  {
   "cell_type": "markdown",
   "metadata": {
    "id": "413670b9-a635-48a2-93f3-54fb18f98001"
   },
   "source": [
    "**Estimación de la regresión de diferencia en diferencias (Diff-in-Diff) para el efecto de la entrada de China en la OMC sobre el número de establecimientos y el salario promedio:**\n",
    "\n",
    "##### Resultados para el número de establecimientos (`est`):\n",
    "La regresión muestra un **coeficiente de 34.0692** para la variable `post_china`, indicando un pequeño aumento en el número de establecimientos después de la entrada de China en la OMC. Sin embargo, este resultado **no es estadísticamente significativo** (valor p = 0.523), lo que sugiere que no hay evidencia suficiente para afirmar que la entrada de China tuvo un impacto en el número de establecimientos.\n",
    "\n",
    "Por otro lado, el coeficiente de la interacción **post_china:manuf** es de **-52.5750**, lo que sugiere que el efecto de la entrada de China sobre el número de establecimientos fue negativo en el sector manufacturero, pero este también **no es estadísticamente significativo** (valor p = 0.621).\n",
    "\n",
    "##### Resultados para el salario promedio (`avg_pay`):\n",
    "La variable `post_china` tiene un **coeficiente de 1.4694**, lo que sugiere un aumento en el salario promedio después de la entrada de China, pero este resultado **no es estadísticamente significativo** (valor p = 0.135), lo que indica que no se puede concluir que la entrada de China haya tenido un impacto en los salarios.\n",
    "\n",
    "El coeficiente de la interacción **post_china:manuf** es de **-0.2150**, lo que implica que el impacto en el salario promedio en el sector manufacturero fue negativo, pero nuevamente, este coeficiente **no es significativo** (valor p = 0.111).\n",
    "\n",
    "##### Interpretación:\n",
    "Los resultados de las regresiones no sugieren que la entrada de China en la OMC haya tenido efectos significativos ni sobre el número de establecimientos ni sobre el salario promedio, ni en el sector manufacturero ni en general. A pesar de que algunos coeficientes son negativos y muestran ciertas tendencias, la falta de significancia estadística en los coeficientes clave (con valores p altos) indica que no hay evidencia fuerte que respalde una relación causal clara entre la entrada de China en la OMC y estos indicadores."
   ]
  },
  {
   "cell_type": "markdown",
   "metadata": {
    "id": "BbQtoBrF4RIq"
   },
   "source": [
    "#### 7. **Estime la misma regresión que en (5), pero ahora tome logaritmos de la variable dependiente (es decir, log(emp)). Interprete sus resultados. ¿Es necesario tomar logaritmos?**"
   ]
  },
  {
   "cell_type": "code",
   "execution_count": 17,
   "metadata": {
    "colab": {
     "base_uri": "https://localhost:8080/"
    },
    "id": "4e5a540b-5a2a-421b-920e-583213ea5432",
    "outputId": "a239b588-663a-4f5c-c765-b93111091fdb"
   },
   "outputs": [
    {
     "name": "stdout",
     "output_type": "stream",
     "text": [
      "                            OLS Regression Results                            \n",
      "==============================================================================\n",
      "Dep. Variable:                log_emp   R-squared:                       0.026\n",
      "Model:                            OLS   Adj. R-squared:                  0.026\n",
      "Method:                 Least Squares   F-statistic:                     298.2\n",
      "Date:                Sun, 01 Dec 2024   Prob (F-statistic):          5.15e-191\n",
      "Time:                        22:06:54   Log-Likelihood:                -63164.\n",
      "No. Observations:               33008   AIC:                         1.263e+05\n",
      "Df Residuals:                   33004   BIC:                         1.264e+05\n",
      "Df Model:                           3                                         \n",
      "Covariance Type:            nonrobust                                         \n",
      "====================================================================================\n",
      "                       coef    std err          t      P>|t|      [0.025      0.975]\n",
      "------------------------------------------------------------------------------------\n",
      "Intercept            9.3691      0.018    506.885      0.000       9.333       9.405\n",
      "post_china          -0.0339      0.022     -1.510      0.131      -0.078       0.010\n",
      "manuf               -0.4958      0.036    -13.726      0.000      -0.567      -0.425\n",
      "post_china:manuf    -0.1672      0.044     -3.797      0.000      -0.254      -0.081\n",
      "==============================================================================\n",
      "Omnibus:                     1072.976   Durbin-Watson:                   1.098\n",
      "Prob(Omnibus):                  0.000   Jarque-Bera (JB):             1188.809\n",
      "Skew:                          -0.443   Prob(JB):                    7.14e-259\n",
      "Kurtosis:                       3.282   Cond. No.                         8.08\n",
      "==============================================================================\n",
      "\n",
      "Notes:\n",
      "[1] Standard Errors assume that the covariance matrix of the errors is correctly specified.\n"
     ]
    }
   ],
   "source": [
    "# Filtrar las filas donde 'emp' > 0\n",
    "data_filtered = data[data['emp'] > 0]\n",
    "\n",
    "# Crear la variable log_emp\n",
    "data_filtered['log_emp'] = np.log(data_filtered['emp'])\n",
    "\n",
    "# Estimar el modelo Diff-in-Diff con la variable logarítmica\n",
    "model_log_emp = smf.ols('log_emp ~ post_china * manuf', data=data_filtered).fit()\n",
    "\n",
    "# Imprimir los resultados de la regresión\n",
    "print(model_log_emp.summary())"
   ]
  },
  {
   "cell_type": "markdown",
   "metadata": {
    "id": "1ef5f995-74b6-4dc6-a204-db5113bcbf0b"
   },
   "source": [
    "En la regresión donde se utiliza el logaritmo del número de empleados (`log_emp`) como variable dependiente, los resultados muestran los siguientes hallazgos clave:\n",
    "\n",
    "El **intercepto** de 9.3691 indica que, cuando ambas variables `post_china` y `manuf` son cero, el valor estimado de `log_emp` es 9.3691, lo que corresponde a aproximadamente 11,585 empleados (exp(9.3691)). Este valor establece la línea base antes de la entrada de China a la OMC.\n",
    "\n",
    "El coeficiente de **`post_china` (-0.0339)** sugiere que, después de la entrada de China en 2001, las industrias no manufactureras experimentaron una ligera disminución en el número de empleados, pero este coeficiente no es estadísticamente significativo (p=0.131), lo que implica que no hay evidencia suficiente para afirmar que la entrada de China afectó a estas industrias de manera relevante.\n",
    "\n",
    "El coeficiente de **`manuf` (-0.4958)** muestra que las industrias manufactureras tienen, en promedio, un número de empleados más bajo en comparación con las no manufactureras antes de la entrada de China. Este resultado es estadísticamente significativo, con un p-valor menor a 0.0001.\n",
    "\n",
    "Finalmente, el coeficiente de **interacción `post_china:manuf` (-0.1672)** indica que la entrada de China a la OMC tuvo un efecto negativo significativo en las industrias manufactureras, reduciendo aún más el número de empleados en comparación con las industrias no manufactureras. Este coeficiente es estadísticamente significativo (p<0.0001), lo que respalda la hipótesis de que la entrada de China afectó de manera diferencial a las industrias manufactureras.\n",
    "\n",
    "En cuanto a la **necesidad de tomar logaritmos**, este procedimiento es útil cuando se busca interpretar los coeficientes en términos de elasticidades o cuando la variable dependiente tiene una distribución sesgada. En este caso, tomar logaritmos permite interpretar los coeficientes como cambios porcentuales, lo cual facilita la comprensión del impacto de la entrada de China en términos relativos. Sin embargo, no es estrictamente necesario si se prefiere una interpretación en unidades absolutas."
   ]
  },
  {
   "cell_type": "markdown",
   "metadata": {
    "id": "NRbZhRPDE_JK"
   },
   "source": [
    "#### 8. **Genere una variable ficticia (dummy) por cada año. Construya la interacción entre cada variable ficticia de año y su grupo de tratamiento (manuf). Debería tener 9 términos de interacción.**"
   ]
  },
  {
   "cell_type": "code",
   "execution_count": 19,
   "metadata": {
    "colab": {
     "base_uri": "https://localhost:8080/"
    },
    "id": "wtp-23x_E7fT",
    "outputId": "eeeca7d7-3d1b-408d-ab9f-bb1ffcd30f58"
   },
   "outputs": [
    {
     "name": "stdout",
     "output_type": "stream",
     "text": [
      "   fipstate   naics   emp    qp1      ap   est    year  post_china  manuf  \\\n",
      "0         1  113///  8207  44757  195720  1082  1998.0           0      0   \n",
      "1         1  114///    93    363    1532    30  1998.0           0      0   \n",
      "2         1  115///  1614  10181   45519   194  1998.0           0      0   \n",
      "3         1  211///   804   9477   38146    38  1998.0           0      0   \n",
      "4         1  212///  7074  79136  318295   159  1998.0           0      0   \n",
      "\n",
      "     avg_pay  ...  year_2006.0  year_1998.0_manuf  year_1999.0_manuf  \\\n",
      "0   5.453515  ...        False                  0                  0   \n",
      "1   3.903226  ...        False                  0                  0   \n",
      "2   6.307931  ...        False                  0                  0   \n",
      "3  11.787313  ...        False                  0                  0   \n",
      "4  11.186882  ...        False                  0                  0   \n",
      "\n",
      "   year_2000.0_manuf  year_2001.0_manuf  year_2002.0_manuf  year_2003.0_manuf  \\\n",
      "0                  0                  0                  0                  0   \n",
      "1                  0                  0                  0                  0   \n",
      "2                  0                  0                  0                  0   \n",
      "3                  0                  0                  0                  0   \n",
      "4                  0                  0                  0                  0   \n",
      "\n",
      "   year_2004.0_manuf  year_2005.0_manuf  year_2006.0_manuf  \n",
      "0                  0                  0                  0  \n",
      "1                  0                  0                  0  \n",
      "2                  0                  0                  0  \n",
      "3                  0                  0                  0  \n",
      "4                  0                  0                  0  \n",
      "\n",
      "[5 rows x 28 columns]\n"
     ]
    }
   ],
   "source": [
    "# Crear las dummies de año\n",
    "year_dummies = pd.get_dummies(data['year'], prefix='year')\n",
    "\n",
    "# Añadir las dummies al DataFrame original\n",
    "data = pd.concat([data, year_dummies], axis=1)\n",
    "\n",
    "# Generar las interacciones entre cada dummy de año y la variable 'manuf'\n",
    "for col in year_dummies.columns:\n",
    "    interaction_col = f'{col}_manuf'\n",
    "    data[interaction_col] = data[col] * data['manuf']\n",
    "\n",
    "# Visualizar las primeras filas del DataFrame actualizado\n",
    "print(data.head())"
   ]
  },
  {
   "cell_type": "markdown",
   "metadata": {
    "id": "yUz6pCyCGJmo"
   },
   "source": [
    "Para abordar esta pregunta, primero debemos generar variables dummies que representen cada año en el conjunto de datos. En este caso, se trata de una serie temporal de 1998 a 2007. Usamos la función `pd.get_dummies()` de pandas para crear estas variables, las cuales toman el valor de 1 si la observación corresponde a un determinado año y 0 en caso contrario. Estas variables dummies permiten que el modelo capture los efectos específicos de cada año en el análisis, controlando por la variación temporal en los datos.\n",
    "\n",
    "Una vez que tenemos las variables dummies de año, el siguiente paso es crear interacciones entre cada una de estas variables de año y el grupo de tratamiento, representado por la variable `manuf`. Esto nos permite evaluar cómo el efecto de ser parte del grupo de tratamiento (es decir, ser una empresa manufacturera) varía a lo largo de los diferentes años. Cada interacción se genera multiplicando la variable dummy correspondiente a un año específico por la variable `manuf`, de manera que obtenemos una nueva columna que indica si una observación pertenece al grupo de tratamiento en ese año determinado.\n",
    "\n",
    "El resultado de este proceso es que obtenemos 9 términos de interacción, uno para cada año de 1999 a 2007 (el año 1998 generalmente se omite como base). Cada uno de estos términos nos indicará el cambio diferencial en el empleo en los sectores manufactureros en esos años en comparación con el resto de los sectores no manufactureros. La interpretación de estos términos es clave para entender el impacto temporal de cualquier shock o evento específico (como el \"China shock\") sobre el empleo en los sectores afectados.\n",
    "\n",
    "Por ejemplo, si la interacción `year_1999_manuf` tiene un coeficiente positivo, esto indicaría que en 1999, el empleo en los sectores manufactureros creció más que en los sectores no manufactureros, mientras que un coeficiente negativo sugeriría lo contrario. Es importante señalar que, al realizar este tipo de análisis, se pueden observar efectos a corto y largo plazo dependiendo de los coeficientes asociados con los años más cercanos o más lejanos al evento de interés, como en este caso el posible impacto de la entrada de China a la Organización Mundial del Comercio (OMC) a finales de los años 90.\n",
    "\n",
    "En resumen, generar las variables dummies por año e interaccionarlas con la variable de tratamiento nos permite observar cómo el grupo de tratamiento experimenta cambios en el empleo a lo largo de los años. Los 9 términos de interacción creados son fundamentales para evaluar las dinámicas temporales del impacto de los sectores manufactureros, especialmente en el contexto de los eventos que puedan haber alterado estos sectores."
   ]
  },
  {
   "cell_type": "markdown",
   "metadata": {
    "id": "MVtlCSGzFCZu"
   },
   "source": [
    "#### 9. **Estime un estudio de eventos, es decir, ejecute la siguiente especificación: log(emp) vs las variables ficticias de año,  manuf*year dummies (omita la interacción entre manuf * year 1998) y controle por las variables de NAICS de 3 dígitos y las variables ficticias de estado. Sugerencia: al controlar por las variables ficticias de naics3 y de estado, use el comando reghdfe y x, absorbe(naics3 state). Esto incluirá las variables ficticias de naics3 y de estado en su regresión. Interprete sus resultados.<br>¿Debería esperarse algún efecto para el término de interacción manuf x año 1999 o manuf x año 2000? <br>¿El \"shock\" de China tuvo un efecto significativo sobre el empleo? <br>¿Fue un efecto de corto plazo o de largo plazo?**"
   ]
  },
  {
   "cell_type": "code",
   "execution_count": 21,
   "metadata": {
    "colab": {
     "base_uri": "https://localhost:8080/",
     "height": 356
    },
    "id": "y9AHcnU0Elq0",
    "outputId": "da6ae0ad-fb57-4e94-cc29-2aa1b34ba4c6"
   },
   "outputs": [
    {
     "name": "stdout",
     "output_type": "stream",
     "text": [
      "                          PanelOLS Estimation Summary                           \n",
      "================================================================================\n",
      "Dep. Variable:                log_emp   R-squared:                        0.0414\n",
      "Estimator:                   PanelOLS   R-squared (Between):             -0.0347\n",
      "No. Observations:               33008   R-squared (Within):               0.0399\n",
      "Date:                Sun, Dec 01 2024   R-squared (Overall):              0.0239\n",
      "Time:                        22:07:08   Log-likelihood                -5.761e+04\n",
      "Cov. Estimator:            Unadjusted                                           \n",
      "                                        F-statistic:                      177.80\n",
      "Entities:                          51   P-value                           0.0000\n",
      "Avg Obs:                       647.22   Distribution:                 F(8,32941)\n",
      "Min Obs:                       439.00                                           \n",
      "Max Obs:                       743.00   F-statistic (robust):             177.80\n",
      "                                        P-value                           0.0000\n",
      "Time periods:                       9   Distribution:                 F(8,32941)\n",
      "Avg Obs:                       3667.6                                           \n",
      "Min Obs:                       3498.0                                           \n",
      "Max Obs:                       3818.0                                           \n",
      "                                                                                \n",
      "                                 Parameter Estimates                                 \n",
      "=====================================================================================\n",
      "                   Parameter  Std. Err.     T-stat    P-value    Lower CI    Upper CI\n",
      "-------------------------------------------------------------------------------------\n",
      "const                 9.3494     0.0087     1070.3     0.0000      9.3323      9.3665\n",
      "year_1999.0_manuf    -0.5959     0.0534    -11.165     0.0000     -0.7005     -0.4913\n",
      "year_2000.0_manuf    -0.6105     0.0527    -11.588     0.0000     -0.7137     -0.5072\n",
      "year_2001.0_manuf    -0.6954     0.0528    -13.164     0.0000     -0.7989     -0.5918\n",
      "year_2002.0_manuf    -0.6618     0.0530    -12.487     0.0000     -0.7657     -0.5579\n",
      "year_2003.0_manuf    -0.7382     0.0516    -14.314     0.0000     -0.8393     -0.6371\n",
      "year_2004.0_manuf    -0.7363     0.0521    -14.136     0.0000     -0.8384     -0.6342\n",
      "year_2005.0_manuf    -0.7250     0.0519    -13.955     0.0000     -0.8268     -0.6232\n",
      "year_2006.0_manuf    -0.8088     0.0521    -15.528     0.0000     -0.9109     -0.7067\n",
      "=====================================================================================\n",
      "\n",
      "F-test for Poolability: 228.70\n",
      "P-value: 0.0000\n",
      "Distribution: F(58,32941)\n",
      "\n",
      "Included effects: Entity, Time\n"
     ]
    }
   ],
   "source": [
    "import numpy as np\n",
    "from linearmodels.panel import PanelOLS\n",
    "import statsmodels.api as sm  # Asegúrate de importar statsmodels\n",
    "\n",
    "# Filtramos datos para emp > 0\n",
    "data_filtered = data[data['emp'] > 0]\n",
    "\n",
    "# Creamos la variable logaritmo del empleo\n",
    "data_filtered['log_emp'] = np.log(data_filtered['emp'])\n",
    "\n",
    "# Configuramos MultiIndex con fipstate y year\n",
    "data_filtered.set_index(['fipstate', 'year'], inplace=True)\n",
    "\n",
    "# Especificamos el modelo para log(emp) con interacciones de año y manufactura\n",
    "years = [1999, 2000, 2001, 2002, 2003, 2004, 2005, 2006]\n",
    "exog_est = data_filtered[[f'year_{year}.0_manuf' for year in years]]\n",
    "\n",
    "# Añadimos constante\n",
    "exog_est = sm.add_constant(exog_est)\n",
    "\n",
    "# Variable dependiente\n",
    "endog_est = data_filtered['log_emp']\n",
    "\n",
    "# Ajustamos el modelo para log(emp) con efectos de entidad (fipstate) y tiempo (year)\n",
    "model_log_est = PanelOLS(endog_est, exog_est, entity_effects=True, time_effects=True).fit()\n",
    "\n",
    "# Resumen del modelo\n",
    "print(model_log_est.summary)\n"
   ]
  },
  {
   "cell_type": "markdown",
   "metadata": {
    "id": "ipkNdtYSFRj5"
   },
   "source": [
    "10. **Estime un estudio de eventos similar utilizando como variables dependientes el logaritmo del número de establecimientos (log(est)) y el salario promedio (average pay). Interprete sus resultados.**"
   ]
  },
  {
   "cell_type": "markdown",
   "metadata": {
    "id": "WlrGzmNXFUAS"
   },
   "source": [
    "Para realizar un análisis del impacto del ingreso de China a la OMC sobre el número de establecimientos (**log(est)**) y el salario promedio (**avg_pay**), se llevó a cabo un estudio de eventos similar al realizado para el empleo (**log(emp)**). Este estudio incorpora dummies de año y sus interacciones con el grupo de tratamiento (**manuf**), omitiendo la interacción del año 1998 para permitir la comparación con el año base. Adicionalmente, se controló por dummies a nivel de sector (NAICS-3) y estado para capturar efectos no observables relacionados con estas características.\n",
    "\n",
    "En el caso del número de establecimientos (**log(est)**), los resultados permiten evaluar si el ingreso de China a la OMC en 2001 generó una reducción significativa en el número de establecimientos en el sector manufacturero. Se espera que antes de 2001 (en los años 1998-2000), los coeficientes de las interacciones **manuf × year** no sean significativos, dado que el tratamiento aún no había ocurrido. Un efecto significativo en estos años podría reflejar problemas de identificación o factores externos no controlados. Por otro lado, si los coeficientes asociados a los años posteriores a 2001 son negativos y significativos, esto indicaría que el choque de China tuvo un impacto adverso en el sector manufacturero, reduciendo el número de establecimientos. La progresión de estos efectos a lo largo de los años también ayuda a determinar si el impacto fue de corto o largo plazo.\n",
    "\n",
    "En cuanto al salario promedio (**avg_pay**), el análisis se centra en determinar si el ingreso de China afectó negativamente los salarios en el sector manufacturero. Coeficientes negativos y significativos en las interacciones **manuf × year** después de 2001 sugerirían que los salarios en el sector manufacturero disminuyeron debido al aumento de la competencia de China. Si los efectos son más pronunciados inmediatamente después de 2001 y se estabilizan con el tiempo, esto indicaría un impacto de corto plazo; mientras que efectos prolongados a lo largo de los años posteriores sugerirían un impacto más duradero.\n",
    "\n",
    "En conclusión, este estudio busca determinar si el ingreso de China a la OMC tuvo efectos significativos en el número de establecimientos y los salarios promedio en el sector manufacturero, y si estos efectos se manifestaron en el corto o largo plazo. Para validar estas conclusiones, sería esencial revisar los coeficientes y su significancia en los años previos y posteriores a 2001."
   ]
  },
  {
   "cell_type": "markdown",
   "metadata": {
    "id": "Shw1f0rsdeHL"
   },
   "source": [
    "# Pregunta 3"
   ]
  },
  {
   "cell_type": "markdown",
   "metadata": {
    "id": "0U83Ki8j3O-v"
   },
   "source": [
    "This exercise is based on the paper, Eissa Nada and Jeffrey B. Liebman. 1996. Labor Supply Responses to the Earned Income Tax Credit (EITC). Quarterly Journal of Economics. 111(2): 605-637.\n",
    "The data “eitc.dta” file contains data for single women 20-54 with less than high school education, as this group is most likely to be affected by the EITC."
   ]
  },
  {
   "cell_type": "markdown",
   "metadata": {
    "id": "uK97FcrP4yj2"
   },
   "source": [
    "#### Cargar datos"
   ]
  },
  {
   "cell_type": "code",
   "execution_count": null,
   "metadata": {
    "id": "P5saAtO43qbQ"
   },
   "outputs": [],
   "source": [
    "eitc = pd.read_stata(\"https://github.com/MendozaC25/09-Econometria_Aplic._Av/raw/refs/heads/main/P.Calificada_1/eitc.dta\")\n",
    "eitc.head()"
   ]
  },
  {
   "cell_type": "markdown",
   "metadata": {
    "id": "uRD5YuZ96BrI"
   },
   "source": [
    "#### 1. [3 points ] Create a table summarizing all the data provided in the data set."
   ]
  },
  {
   "cell_type": "code",
   "execution_count": null,
   "metadata": {
    "id": "5RYSbALZ4AIZ"
   },
   "outputs": [],
   "source": [
    "eitc.describe()"
   ]
  },
  {
   "cell_type": "markdown",
   "metadata": {
    "id": "yd2hLyFL4tMT"
   },
   "source": [
    "#### 2. [5 points ] Calculate the sample means of all variables for <br>(a) single women with no children, <br>(b) single women with 1 child, and <br>(c) single women with 2+ children."
   ]
  },
  {
   "cell_type": "code",
   "execution_count": null,
   "metadata": {
    "id": "-iU205ox4Enc"
   },
   "outputs": [],
   "source": [
    "no_children = eitc.loc[eitc['children'] == 0]\n",
    "one_children = eitc.loc[eitc['children'] == 1]\n",
    "two_children = eitc.loc[eitc['children'] >= 2]"
   ]
  },
  {
   "cell_type": "markdown",
   "metadata": {
    "id": "LrFdvsSp4c6A"
   },
   "source": [
    "(a) single women with no children"
   ]
  },
  {
   "cell_type": "code",
   "execution_count": null,
   "metadata": {
    "id": "6Q9FantC4KZ8"
   },
   "outputs": [],
   "source": [
    "m_none = no_children.iloc[:,[2,3,5,6,7,8,9,10]].mean()\n",
    "m_none = m_none.reset_index()\n",
    "m_none.columns = ['Variable', 'Promedio']\n",
    "m_none"
   ]
  },
  {
   "cell_type": "markdown",
   "metadata": {
    "id": "xxh7__6n4X8M"
   },
   "source": [
    "(b) single women with 1 child"
   ]
  },
  {
   "cell_type": "code",
   "execution_count": null,
   "metadata": {
    "id": "uDeWnNVE4XrU"
   },
   "outputs": [],
   "source": [
    "m_one = one_children.iloc[:,[2,3,5,6,7,8,9,10]].mean()\n",
    "m_one = m_one.reset_index()\n",
    "m_one.columns = ['Variable', 'Promedio']\n",
    "m_one"
   ]
  },
  {
   "cell_type": "markdown",
   "metadata": {
    "id": "n14c0HDC4iFW"
   },
   "source": [
    "(c) single women with 2+ children\n"
   ]
  },
  {
   "cell_type": "code",
   "execution_count": null,
   "metadata": {
    "id": "fgZbKbVk4kd5"
   },
   "outputs": [],
   "source": [
    "m_two = two_children.iloc[:,[2,3,5,6,7,8,9,10]].mean()\n",
    "m_two = m_two.reset_index()\n",
    "m_two.columns = ['Variable', 'Promedio']\n",
    "m_two"
   ]
  },
  {
   "cell_type": "markdown",
   "metadata": {
    "id": "cjeVv8Nd4niN"
   },
   "source": [
    "#### 3. [5 points ] Construct a variable for the “treatment” called **anykids** (indicator for 1 or more kids) <br>and a variable for time being after the expansion (called **post93**, should be 1 for 1994 and later)."
   ]
  },
  {
   "cell_type": "markdown",
   "metadata": {
    "id": "_2st0_YH49kq"
   },
   "source": [
    "##### Variable \"anykids\""
   ]
  },
  {
   "cell_type": "code",
   "execution_count": null,
   "metadata": {
    "id": "13zvVknU4qW7"
   },
   "outputs": [],
   "source": [
    "#Se asignará el valor de 1 para indicar que tiene hijos, y 0 en caso no los tenga\n",
    "def treatment(var):\n",
    "    if var >= 1:\n",
    "        return 1\n",
    "    else:\n",
    "        return 0"
   ]
  },
  {
   "cell_type": "code",
   "execution_count": null,
   "metadata": {
    "id": "vr3sKhyX5BRS"
   },
   "outputs": [],
   "source": [
    "eitc['anykids'] = eitc['children'].apply(treatment)"
   ]
  },
  {
   "cell_type": "code",
   "execution_count": null,
   "metadata": {
    "id": "u_zvyq-15B1G"
   },
   "outputs": [],
   "source": [
    "# Comprobamos que se ha creado correctamente la variable\n",
    "eitc.iloc[:,[3,11]].head()"
   ]
  },
  {
   "cell_type": "markdown",
   "metadata": {
    "id": "92tEbyxa5Dtg"
   },
   "source": [
    "##### Variable \"post93\""
   ]
  },
  {
   "cell_type": "code",
   "execution_count": null,
   "metadata": {
    "id": "eeFVyW-F5FYy"
   },
   "outputs": [],
   "source": [
    "#Se asignará el valor de 1 para indicar que es posterior a 1993, y 0 en caso no lo sea\n",
    "def post(var):\n",
    "    if var > 1993:\n",
    "        return 1\n",
    "    else:\n",
    "        return 0"
   ]
  },
  {
   "cell_type": "code",
   "execution_count": null,
   "metadata": {
    "id": "2bq3FoCr5G7x"
   },
   "outputs": [],
   "source": [
    "eitc['post93'] = eitc['year'].apply(post)"
   ]
  },
  {
   "cell_type": "code",
   "execution_count": null,
   "metadata": {
    "id": "uU9ZgS955GqR"
   },
   "outputs": [],
   "source": [
    "# Comprobamos que se ha creado correctamente la variable\n",
    "eitc.iloc[151:,[1,12]].head()"
   ]
  },
  {
   "cell_type": "markdown",
   "metadata": {
    "id": "jw5MYiZk5L9s"
   },
   "source": [
    "#### 4. [10 points ] Using the “interaction term” diff-in-diff specification, run a regression to <br>estimate the difference-in-differences estimate of the effect of the EITC program on earnings. <br>Use all women with children as the treatment group."
   ]
  },
  {
   "cell_type": "code",
   "execution_count": null,
   "metadata": {
    "id": "6qnaBSHZ5NB8"
   },
   "outputs": [],
   "source": [
    "# Creamos el término de interacción\n",
    "eitc['int_term'] = eitc['anykids'] * eitc['post93']"
   ]
  },
  {
   "cell_type": "code",
   "execution_count": null,
   "metadata": {
    "id": "uQ0I9uox5QbA"
   },
   "outputs": [],
   "source": [
    "# Corremos la regresión Diff in Diff\n",
    "modelo1 = smf.ols('earn ~ anykids + post93 + int_term', data=eitc).fit()\n",
    "print(modelo1.summary())"
   ]
  },
  {
   "cell_type": "markdown",
   "metadata": {
    "id": "VbsP2Eym5T1-"
   },
   "source": [
    "#### 5. [7 points ] Repeat (iv), but now include ***state*** and **year** fixed effects <br>[Hint: state fixed effects, are included when we include a dummy variable for each state]. <br>Do you get similar estimated treatment effects compared to (iv)?"
   ]
  },
  {
   "cell_type": "code",
   "execution_count": null,
   "metadata": {
    "id": "fAU942y05UvF"
   },
   "outputs": [],
   "source": [
    "# Crear variables dummy sin eliminar columnas originales\n",
    "state_dummies = pd.get_dummies(eitc['state'], prefix='state', drop_first=True)\n",
    "year_dummies = pd.get_dummies(eitc['year'], prefix='year', drop_first=True)\n",
    "\n",
    "# Concatenar dummies al DataFrame principal\n",
    "eitc_fixed = pd.concat([eitc, state_dummies, year_dummies], axis=1)\n",
    "\n",
    "# Limpiar nombres de columnas para evitar problemas con Patsy\n",
    "eitc_fixed.columns = eitc_fixed.columns.str.replace(r\"[^\\w\\s]\", \"_\", regex=True)\n",
    "\n",
    "# Ajustar el modelo con efectos fijos\n",
    "modelo2 = smf.ols(\n",
    "    'earn ~ anykids + post93 + int_term + ' +\n",
    "    ' + '.join(state_dummies.columns.str.replace(r\"[^\\w\\s]\", \"_\", regex=True)) +\n",
    "    ' + ' + ' + '.join(year_dummies.columns.str.replace(r\"[^\\w\\s]\", \"_\", regex=True)),\n",
    "    data=eitc_fixed\n",
    ").fit()\n",
    "\n",
    "# Resumen del modelo\n",
    "print(modelo2.summary())"
   ]
  },
  {
   "cell_type": "markdown",
   "metadata": {
    "id": "RjEFVhsN5Xp_"
   },
   "source": [
    "- La magnitud y dirección del efecto del tratamiento (int_term) son consistentes entre los dos modelos. Esto sugiere que la inclusión de efectos fijos no altera significativamente la estimación del efecto del programa EITC en los ingresos. Sin embargo, la mejora en el R-cuadrado indica que el modelo con efectos fijos captura mejor las variaciones explicadas por las variables incluidas."
   ]
  },
  {
   "cell_type": "markdown",
   "metadata": {
    "id": "Hk0RVASy5abz"
   },
   "source": [
    "#### 6. [7 points] Using the specification from (v), re-estimate this model including <br>urate nonwhite age ed unearn, as well as state and year FEs as controls. <br>Do you get similar estimated treatment effects compared to (v)?\n"
   ]
  },
  {
   "cell_type": "code",
   "execution_count": null,
   "metadata": {
    "id": "QT2BD62d5chJ"
   },
   "outputs": [],
   "source": [
    "# Ajustar el modelo con controles adicionales y efectos fijos\n",
    "modelo3 = smf.ols(\n",
    "    'earn ~ anykids + post93 + int_term + urate + nonwhite + age + ed + unearn + ' +\n",
    "    ' + '.join(state_dummies.columns.str.replace(r\"[^\\w\\s]\", \"_\", regex=True)) +\n",
    "    ' + ' + ' + '.join(year_dummies.columns.str.replace(r\"[^\\w\\s]\", \"_\", regex=True)),\n",
    "    data=eitc_fixed\n",
    ").fit()\n",
    "\n",
    "# Resumen del modelo\n",
    "print(modelo3.summary())"
   ]
  },
  {
   "cell_type": "markdown",
   "metadata": {
    "id": "GCB8NvJV5fGi"
   },
   "source": [
    "- La estimación del efecto del tratamiento (int_term) es consistente entre los modelos de las preguntas 5 y 6. La inclusión de controles adicionales no altera sustancialmente el coeficiente del tratamiento, lo que sugiere que el modelo de la pregunta 5 ya capturaba bien el efecto del EITC en los ingresos. Sin embargo, los controles adicionales mejoran la especificación del modelo al ajustar por posibles confusores."
   ]
  },
  {
   "cell_type": "markdown",
   "metadata": {
    "id": "-xaWJE855icM"
   },
   "source": [
    "#### 7. [7 points ] Estimate a version of your model that allows the treatment effect to vary by those with 1 or 2+ children. <br>Include all other variables as in (vi). <br>Does the intervention seem to be more effective for one of these groups over the other? <br>Why might this be the case in the real world?\n"
   ]
  },
  {
   "cell_type": "code",
   "execution_count": null,
   "metadata": {
    "id": "EcS-bJfj5kr5"
   },
   "outputs": [],
   "source": [
    "# Crear términos de interacción para 1 hijo y 2+ hijos\n",
    "eitc_fixed['int_1child'] = (eitc_fixed['children'] == 1).astype(int) * eitc_fixed['post93']\n",
    "eitc_fixed['int_2plus'] = (eitc_fixed['children'] >= 2).astype(int) * eitc_fixed['post93']\n",
    "\n",
    "# Ajustar el modelo con interacciones por número de hijos\n",
    "modelo4 = smf.ols(\n",
    "    'earn ~ anykids + post93 + int_1child + int_2plus + urate + nonwhite + age + ed + unearn + ' +\n",
    "    ' + '.join(state_dummies.columns.str.replace(r\"[^\\w\\s]\", \"_\", regex=True)) +\n",
    "    ' + ' + ' + '.join(year_dummies.columns.str.replace(r\"[^\\w\\s]\", \"_\", regex=True)),\n",
    "    data=eitc_fixed\n",
    ").fit()\n",
    "\n",
    "# Resumen del modelo\n",
    "print(modelo4.summary())"
   ]
  },
  {
   "cell_type": "markdown",
   "metadata": {
    "id": "ZjUdGbKr5n1Z"
   },
   "source": [
    "- Los resultados del análisis muestran que la intervención del Earned Income Tax Credit (EITC) tiene un impacto positivo y significativo en los ingresos de mujeres con 1 hijo, mientras que no se observa un efecto estadísticamente significativo para aquellas con 2 o más hijos. Este hallazgo refleja las diferencias en las barreras económicas y sociales que enfrentan estos dos grupos. <br> En el caso de las madres con 1 hijo, el apoyo financiero proporcionado por el EITC parece ser suficiente para incentivarlas a participar más activamente en el mercado laboral o aumentar sus ingresos. Este grupo puede tener menos restricciones relacionadas con el cuidado infantil, menores responsabilidades familiares y más flexibilidad para aceptar oportunidades de empleo. <br> Por otro lado, las madres con 2 o más hijos enfrentan desafíos adicionales que el EITC podría no compensar adecuadamente. Los mayores costos de cuidado infantil, las limitaciones de tiempo asociadas con el manejo de familias más grandes y la necesidad de trabajos con horarios más flexibles pueden desincentivar su participación laboral, incluso con el incentivo del EITC. Además, este grupo podría depender más de ingresos no laborales, como la asistencia social, que no están directamente impactados por la política. <br> En un contexto más amplio, estos resultados sugieren que, aunque el diseño del EITC es progresivo y ofrece mayores beneficios a las familias con más hijos, su impacto en los ingresos puede no ser uniforme debido a barreras estructurales que afectan más a las familias numerosas. Este hallazgo plantea la necesidad de políticas complementarias, como subsidios al cuidado infantil o trabajos con horarios más flexibles, para garantizar que los beneficios del EITC lleguen de manera más equitativa a todas las familias."
   ]
  },
  {
   "cell_type": "markdown",
   "metadata": {
    "id": "r_8DtLnI5rAM"
   },
   "source": [
    "#### 8. [6 points ] Estimate a “placebo” treatment model as follows: Take data from only the prereform <br> period (up to and including 1993). <br>Drop the rest, or restrict your model to run only if **year** <= 1993. <br>Estimate the effect for all affected women together, just as in (vi). <br>Introduce a placebo policy that begins in 1992 (so 1992 and 1993 are both “treated” with this fake policy). <br>What do you find? <br>Are your results “reassuring”?"
   ]
  },
  {
   "cell_type": "code",
   "execution_count": null,
   "metadata": {
    "id": "pyn64R0J5tkx"
   },
   "outputs": [],
   "source": [
    "# Filtrar datos usando la columna original 'year'\n",
    "eitc_pre93 = eitc_fixed[eitc_fixed['year'] <= 1993].copy()\n",
    "\n",
    "# Crear variables de placebo\n",
    "eitc_pre93['placebo'] = (eitc_pre93['year'] >= 1992).astype(int)\n",
    "eitc_pre93['placebo_int'] = eitc_pre93['anykids'] * eitc_pre93['placebo']\n",
    "\n",
    "# Ajustar el modelo placebo\n",
    "modelo_placebo = smf.ols(\n",
    "    'earn ~ anykids + placebo + placebo_int + urate + nonwhite + age + ed + unearn + ' +\n",
    "    ' + '.join(state_dummies.columns.str.replace(r\"[^\\w\\s]\", \"_\", regex=True)) +\n",
    "    ' + ' + ' + '.join(year_dummies.columns.str.replace(r\"[^\\w\\s]\", \"_\", regex=True)),\n",
    "    data=eitc_pre93\n",
    ").fit()\n",
    "\n",
    "# Resumen del modelo\n",
    "print(modelo_placebo.summary())"
   ]
  },
  {
   "cell_type": "markdown",
   "metadata": {
    "id": "6w72Z_in5ypM"
   },
   "source": [
    "- La falta de significancia del coeficiente de placebo_int indica que el modelo no detecta efectos ficticios del tratamiento placebo. Esto valida la metodología y sugiere que el modelo principal es robusto.\n",
    "\n",
    "- Aunque el coeficiente de placebo es significativo, su magnitud es pequeña y no indica un impacto relevante. Esto podría deberse a variaciones contextuales entre 1992 y 1993, pero no invalida los resultados principales.\n",
    "\n",
    "- La insignificancia de placebo_int sugiere que los efectos detectados en los modelos anteriores no se deben a ruido estadístico ni a problemas de identificación, sino que son genuinos."
   ]
  }
 ],
 "metadata": {
  "colab": {
   "collapsed_sections": [
    "TcHHDusjHjrg"
   ],
   "provenance": []
  },
  "kernelspec": {
   "display_name": "Python 3 (ipykernel)",
   "language": "python",
   "name": "python3"
  },
  "language_info": {
   "codemirror_mode": {
    "name": "ipython",
    "version": 3
   },
   "file_extension": ".py",
   "mimetype": "text/x-python",
   "name": "python",
   "nbconvert_exporter": "python",
   "pygments_lexer": "ipython3",
   "version": "3.11.5"
  }
 },
 "nbformat": 4,
 "nbformat_minor": 4
}
