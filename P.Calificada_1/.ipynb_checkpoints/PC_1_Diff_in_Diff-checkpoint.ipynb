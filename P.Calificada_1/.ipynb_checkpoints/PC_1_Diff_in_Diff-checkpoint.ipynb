{
 "cells": [
  {
   "cell_type": "markdown",
   "id": "f1edcf08-0d74-4e8a-9f96-6105493ae827",
   "metadata": {},
   "source": [
    "# Pregunta 3"
   ]
  },
  {
   "cell_type": "markdown",
   "id": "edab9afc-7eff-42dd-a58c-8acb6bbcd991",
   "metadata": {},
   "source": [
    "This exercise is based on the paper, Eissa, Nada, and Jeffrey B. Liebman. 1996. **Labor Supply\n",
    "Responses to the Earned Income Tax Credit (EITC)**. Quarterly Journal of Economics. 111(2):\n",
    "605-637. <br>The data “eitc.dta” file contains data for single women 20-54 with less than high school\n",
    "education, as this group is most likely to be affected by the EITC."
   ]
  },
  {
   "cell_type": "markdown",
   "id": "1c9afef5-d2c2-49d2-b01a-d535df5e652c",
   "metadata": {},
   "source": [
    "#### Cargar datos"
   ]
  },
  {
   "cell_type": "code",
   "execution_count": 108,
   "id": "611d1794-3b2f-4748-9ec8-9ef9f391cf85",
   "metadata": {},
   "outputs": [],
   "source": [
    "import pandas as pd\n",
    "import pyreadstat\n",
    "import statsmodels.formula.api as smf"
   ]
  },
  {
   "cell_type": "code",
   "execution_count": 111,
   "id": "3b3fbd94-1819-48d6-9e18-88c273d256c5",
   "metadata": {},
   "outputs": [
    {
     "data": {
      "text/html": [
       "<div>\n",
       "<style scoped>\n",
       "    .dataframe tbody tr th:only-of-type {\n",
       "        vertical-align: middle;\n",
       "    }\n",
       "\n",
       "    .dataframe tbody tr th {\n",
       "        vertical-align: top;\n",
       "    }\n",
       "\n",
       "    .dataframe thead th {\n",
       "        text-align: right;\n",
       "    }\n",
       "</style>\n",
       "<table border=\"1\" class=\"dataframe\">\n",
       "  <thead>\n",
       "    <tr style=\"text-align: right;\">\n",
       "      <th></th>\n",
       "      <th>state</th>\n",
       "      <th>year</th>\n",
       "      <th>urate</th>\n",
       "      <th>children</th>\n",
       "      <th>nonwhite</th>\n",
       "      <th>finc</th>\n",
       "      <th>earn</th>\n",
       "      <th>age</th>\n",
       "      <th>ed</th>\n",
       "      <th>work</th>\n",
       "      <th>unearn</th>\n",
       "    </tr>\n",
       "  </thead>\n",
       "  <tbody>\n",
       "    <tr>\n",
       "      <th>0</th>\n",
       "      <td>11.0</td>\n",
       "      <td>1991.0</td>\n",
       "      <td>7.6</td>\n",
       "      <td>0</td>\n",
       "      <td>1</td>\n",
       "      <td>18714.394273</td>\n",
       "      <td>18714.394273</td>\n",
       "      <td>26</td>\n",
       "      <td>10</td>\n",
       "      <td>1</td>\n",
       "      <td>0.000000</td>\n",
       "    </tr>\n",
       "    <tr>\n",
       "      <th>1</th>\n",
       "      <td>12.0</td>\n",
       "      <td>1991.0</td>\n",
       "      <td>7.2</td>\n",
       "      <td>1</td>\n",
       "      <td>0</td>\n",
       "      <td>4838.568282</td>\n",
       "      <td>471.365639</td>\n",
       "      <td>22</td>\n",
       "      <td>9</td>\n",
       "      <td>1</td>\n",
       "      <td>4.367203</td>\n",
       "    </tr>\n",
       "    <tr>\n",
       "      <th>2</th>\n",
       "      <td>13.0</td>\n",
       "      <td>1991.0</td>\n",
       "      <td>6.4</td>\n",
       "      <td>2</td>\n",
       "      <td>0</td>\n",
       "      <td>8178.193833</td>\n",
       "      <td>0.000000</td>\n",
       "      <td>33</td>\n",
       "      <td>11</td>\n",
       "      <td>0</td>\n",
       "      <td>8.178194</td>\n",
       "    </tr>\n",
       "    <tr>\n",
       "      <th>3</th>\n",
       "      <td>14.0</td>\n",
       "      <td>1991.0</td>\n",
       "      <td>9.1</td>\n",
       "      <td>0</td>\n",
       "      <td>1</td>\n",
       "      <td>9369.570485</td>\n",
       "      <td>0.000000</td>\n",
       "      <td>43</td>\n",
       "      <td>11</td>\n",
       "      <td>0</td>\n",
       "      <td>9.369570</td>\n",
       "    </tr>\n",
       "    <tr>\n",
       "      <th>4</th>\n",
       "      <td>15.0</td>\n",
       "      <td>1991.0</td>\n",
       "      <td>8.6</td>\n",
       "      <td>3</td>\n",
       "      <td>1</td>\n",
       "      <td>14706.607930</td>\n",
       "      <td>14706.607930</td>\n",
       "      <td>23</td>\n",
       "      <td>7</td>\n",
       "      <td>1</td>\n",
       "      <td>0.000000</td>\n",
       "    </tr>\n",
       "  </tbody>\n",
       "</table>\n",
       "</div>"
      ],
      "text/plain": [
       "   state    year  urate  children  nonwhite          finc          earn  age  \\\n",
       "0   11.0  1991.0    7.6         0         1  18714.394273  18714.394273   26   \n",
       "1   12.0  1991.0    7.2         1         0   4838.568282    471.365639   22   \n",
       "2   13.0  1991.0    6.4         2         0   8178.193833      0.000000   33   \n",
       "3   14.0  1991.0    9.1         0         1   9369.570485      0.000000   43   \n",
       "4   15.0  1991.0    8.6         3         1  14706.607930  14706.607930   23   \n",
       "\n",
       "   ed  work    unearn  \n",
       "0  10     1  0.000000  \n",
       "1   9     1  4.367203  \n",
       "2  11     0  8.178194  \n",
       "3  11     0  9.369570  \n",
       "4   7     1  0.000000  "
      ]
     },
     "execution_count": 111,
     "metadata": {},
     "output_type": "execute_result"
    }
   ],
   "source": [
    "eitc = pd.read_stata(\"https://github.com/MendozaC25/09-Econometria_Aplic._Av/raw/refs/heads/main/P.Calificada_1/eitc.dta\")\n",
    "eitc.head()"
   ]
  },
  {
   "cell_type": "markdown",
   "id": "82a67d1d-8ba2-4e69-80b1-51bf91f41316",
   "metadata": {},
   "source": [
    "#### 1. [3 points ] Create a table summarizing all the data provided in the data set."
   ]
  },
  {
   "cell_type": "code",
   "execution_count": 113,
   "id": "2ce7a3d8-b48e-4a89-af88-3b8c43bd9532",
   "metadata": {},
   "outputs": [
    {
     "data": {
      "text/html": [
       "<div>\n",
       "<style scoped>\n",
       "    .dataframe tbody tr th:only-of-type {\n",
       "        vertical-align: middle;\n",
       "    }\n",
       "\n",
       "    .dataframe tbody tr th {\n",
       "        vertical-align: top;\n",
       "    }\n",
       "\n",
       "    .dataframe thead th {\n",
       "        text-align: right;\n",
       "    }\n",
       "</style>\n",
       "<table border=\"1\" class=\"dataframe\">\n",
       "  <thead>\n",
       "    <tr style=\"text-align: right;\">\n",
       "      <th></th>\n",
       "      <th>state</th>\n",
       "      <th>year</th>\n",
       "      <th>urate</th>\n",
       "      <th>children</th>\n",
       "      <th>nonwhite</th>\n",
       "      <th>finc</th>\n",
       "      <th>earn</th>\n",
       "      <th>age</th>\n",
       "      <th>ed</th>\n",
       "      <th>work</th>\n",
       "      <th>unearn</th>\n",
       "    </tr>\n",
       "  </thead>\n",
       "  <tbody>\n",
       "    <tr>\n",
       "      <th>count</th>\n",
       "      <td>13746.00000</td>\n",
       "      <td>13746.000000</td>\n",
       "      <td>13746.000000</td>\n",
       "      <td>13746.000000</td>\n",
       "      <td>13746.000000</td>\n",
       "      <td>13746.000000</td>\n",
       "      <td>13746.000000</td>\n",
       "      <td>13746.000000</td>\n",
       "      <td>13746.000000</td>\n",
       "      <td>13746.000000</td>\n",
       "      <td>13746.000000</td>\n",
       "    </tr>\n",
       "    <tr>\n",
       "      <th>mean</th>\n",
       "      <td>54.52459</td>\n",
       "      <td>1993.347046</td>\n",
       "      <td>6.761734</td>\n",
       "      <td>1.192638</td>\n",
       "      <td>0.600684</td>\n",
       "      <td>15255.319310</td>\n",
       "      <td>10432.475514</td>\n",
       "      <td>35.209661</td>\n",
       "      <td>8.806053</td>\n",
       "      <td>0.513022</td>\n",
       "      <td>4.822844</td>\n",
       "    </tr>\n",
       "    <tr>\n",
       "      <th>std</th>\n",
       "      <td>27.13521</td>\n",
       "      <td>1.709800</td>\n",
       "      <td>1.462461</td>\n",
       "      <td>1.382105</td>\n",
       "      <td>0.489776</td>\n",
       "      <td>19444.249684</td>\n",
       "      <td>18200.758138</td>\n",
       "      <td>10.157128</td>\n",
       "      <td>2.635639</td>\n",
       "      <td>0.499849</td>\n",
       "      <td>7.122624</td>\n",
       "    </tr>\n",
       "    <tr>\n",
       "      <th>min</th>\n",
       "      <td>11.00000</td>\n",
       "      <td>1991.000000</td>\n",
       "      <td>2.600000</td>\n",
       "      <td>0.000000</td>\n",
       "      <td>0.000000</td>\n",
       "      <td>0.000000</td>\n",
       "      <td>0.000000</td>\n",
       "      <td>20.000000</td>\n",
       "      <td>0.000000</td>\n",
       "      <td>0.000000</td>\n",
       "      <td>0.000000</td>\n",
       "    </tr>\n",
       "    <tr>\n",
       "      <th>25%</th>\n",
       "      <td>31.00000</td>\n",
       "      <td>1992.000000</td>\n",
       "      <td>5.700000</td>\n",
       "      <td>0.000000</td>\n",
       "      <td>0.000000</td>\n",
       "      <td>5123.417782</td>\n",
       "      <td>0.000000</td>\n",
       "      <td>26.000000</td>\n",
       "      <td>7.000000</td>\n",
       "      <td>0.000000</td>\n",
       "      <td>0.000000</td>\n",
       "    </tr>\n",
       "    <tr>\n",
       "      <th>50%</th>\n",
       "      <td>56.00000</td>\n",
       "      <td>1993.000000</td>\n",
       "      <td>6.800000</td>\n",
       "      <td>1.000000</td>\n",
       "      <td>1.000000</td>\n",
       "      <td>9636.664360</td>\n",
       "      <td>3332.179931</td>\n",
       "      <td>34.000000</td>\n",
       "      <td>10.000000</td>\n",
       "      <td>1.000000</td>\n",
       "      <td>2.973197</td>\n",
       "    </tr>\n",
       "    <tr>\n",
       "      <th>75%</th>\n",
       "      <td>81.00000</td>\n",
       "      <td>1995.000000</td>\n",
       "      <td>7.700000</td>\n",
       "      <td>2.000000</td>\n",
       "      <td>1.000000</td>\n",
       "      <td>18659.178178</td>\n",
       "      <td>14321.223709</td>\n",
       "      <td>44.000000</td>\n",
       "      <td>11.000000</td>\n",
       "      <td>1.000000</td>\n",
       "      <td>6.863863</td>\n",
       "    </tr>\n",
       "    <tr>\n",
       "      <th>max</th>\n",
       "      <td>95.00000</td>\n",
       "      <td>1996.000000</td>\n",
       "      <td>11.400000</td>\n",
       "      <td>9.000000</td>\n",
       "      <td>1.000000</td>\n",
       "      <td>575616.820870</td>\n",
       "      <td>537880.611850</td>\n",
       "      <td>54.000000</td>\n",
       "      <td>11.000000</td>\n",
       "      <td>1.000000</td>\n",
       "      <td>134.057520</td>\n",
       "    </tr>\n",
       "  </tbody>\n",
       "</table>\n",
       "</div>"
      ],
      "text/plain": [
       "             state          year         urate      children      nonwhite  \\\n",
       "count  13746.00000  13746.000000  13746.000000  13746.000000  13746.000000   \n",
       "mean      54.52459   1993.347046      6.761734      1.192638      0.600684   \n",
       "std       27.13521      1.709800      1.462461      1.382105      0.489776   \n",
       "min       11.00000   1991.000000      2.600000      0.000000      0.000000   \n",
       "25%       31.00000   1992.000000      5.700000      0.000000      0.000000   \n",
       "50%       56.00000   1993.000000      6.800000      1.000000      1.000000   \n",
       "75%       81.00000   1995.000000      7.700000      2.000000      1.000000   \n",
       "max       95.00000   1996.000000     11.400000      9.000000      1.000000   \n",
       "\n",
       "                finc           earn           age            ed          work  \\\n",
       "count   13746.000000   13746.000000  13746.000000  13746.000000  13746.000000   \n",
       "mean    15255.319310   10432.475514     35.209661      8.806053      0.513022   \n",
       "std     19444.249684   18200.758138     10.157128      2.635639      0.499849   \n",
       "min         0.000000       0.000000     20.000000      0.000000      0.000000   \n",
       "25%      5123.417782       0.000000     26.000000      7.000000      0.000000   \n",
       "50%      9636.664360    3332.179931     34.000000     10.000000      1.000000   \n",
       "75%     18659.178178   14321.223709     44.000000     11.000000      1.000000   \n",
       "max    575616.820870  537880.611850     54.000000     11.000000      1.000000   \n",
       "\n",
       "             unearn  \n",
       "count  13746.000000  \n",
       "mean       4.822844  \n",
       "std        7.122624  \n",
       "min        0.000000  \n",
       "25%        0.000000  \n",
       "50%        2.973197  \n",
       "75%        6.863863  \n",
       "max      134.057520  "
      ]
     },
     "execution_count": 113,
     "metadata": {},
     "output_type": "execute_result"
    }
   ],
   "source": [
    "eitc.describe()"
   ]
  },
  {
   "cell_type": "markdown",
   "id": "6facfdfe-4efc-4151-a872-eb348e4bd087",
   "metadata": {},
   "source": [
    "#### 2. [5 points ] Calculate the sample means of all variables for <br>(a) single women with no children, <br>(b) single women with 1 child, and <br>(c) single women with 2+ children.\n"
   ]
  },
  {
   "cell_type": "code",
   "execution_count": 124,
   "id": "5e702e24-7360-4865-aff0-1823fb9c761b",
   "metadata": {},
   "outputs": [],
   "source": [
    "no_children = eitc.loc[eitc['children'] == 0]\n",
    "one_children = eitc.loc[eitc['children'] == 1]\n",
    "two_children = eitc.loc[eitc['children'] >= 2]"
   ]
  },
  {
   "cell_type": "markdown",
   "id": "aedce3cd-6fc5-4af6-b5e9-d64147fd035d",
   "metadata": {},
   "source": [
    "(a) single women with no children"
   ]
  },
  {
   "cell_type": "code",
   "execution_count": 138,
   "id": "c019508a-3256-411a-87ac-105d47a175f4",
   "metadata": {},
   "outputs": [
    {
     "data": {
      "text/html": [
       "<div>\n",
       "<style scoped>\n",
       "    .dataframe tbody tr th:only-of-type {\n",
       "        vertical-align: middle;\n",
       "    }\n",
       "\n",
       "    .dataframe tbody tr th {\n",
       "        vertical-align: top;\n",
       "    }\n",
       "\n",
       "    .dataframe thead th {\n",
       "        text-align: right;\n",
       "    }\n",
       "</style>\n",
       "<table border=\"1\" class=\"dataframe\">\n",
       "  <thead>\n",
       "    <tr style=\"text-align: right;\">\n",
       "      <th></th>\n",
       "      <th>Variable</th>\n",
       "      <th>Promedio</th>\n",
       "    </tr>\n",
       "  </thead>\n",
       "  <tbody>\n",
       "    <tr>\n",
       "      <th>0</th>\n",
       "      <td>urate</td>\n",
       "      <td>6.663067</td>\n",
       "    </tr>\n",
       "    <tr>\n",
       "      <th>1</th>\n",
       "      <td>children</td>\n",
       "      <td>0.000000</td>\n",
       "    </tr>\n",
       "    <tr>\n",
       "      <th>2</th>\n",
       "      <td>finc</td>\n",
       "      <td>18559.863110</td>\n",
       "    </tr>\n",
       "    <tr>\n",
       "      <th>3</th>\n",
       "      <td>earn</td>\n",
       "      <td>13760.255844</td>\n",
       "    </tr>\n",
       "    <tr>\n",
       "      <th>4</th>\n",
       "      <td>age</td>\n",
       "      <td>38.498228</td>\n",
       "    </tr>\n",
       "    <tr>\n",
       "      <th>5</th>\n",
       "      <td>ed</td>\n",
       "      <td>8.548676</td>\n",
       "    </tr>\n",
       "    <tr>\n",
       "      <th>6</th>\n",
       "      <td>work</td>\n",
       "      <td>0.574490</td>\n",
       "    </tr>\n",
       "    <tr>\n",
       "      <th>7</th>\n",
       "      <td>unearn</td>\n",
       "      <td>4.799607</td>\n",
       "    </tr>\n",
       "  </tbody>\n",
       "</table>\n",
       "</div>"
      ],
      "text/plain": [
       "   Variable      Promedio\n",
       "0     urate      6.663067\n",
       "1  children      0.000000\n",
       "2      finc  18559.863110\n",
       "3      earn  13760.255844\n",
       "4       age     38.498228\n",
       "5        ed      8.548676\n",
       "6      work      0.574490\n",
       "7    unearn      4.799607"
      ]
     },
     "execution_count": 138,
     "metadata": {},
     "output_type": "execute_result"
    }
   ],
   "source": [
    "m_none = no_children.iloc[:,[2,3,5,6,7,8,9,10]].mean()\n",
    "m_none = m_none.reset_index()\n",
    "m_none.columns = ['Variable', 'Promedio']\n",
    "m_none"
   ]
  },
  {
   "cell_type": "markdown",
   "id": "58829cb0-258d-4d50-ba4e-6ccf688b081c",
   "metadata": {},
   "source": [
    "(b) single women with 1 child"
   ]
  },
  {
   "cell_type": "code",
   "execution_count": 128,
   "id": "07f75553-6e6c-4d2c-b42e-66c822efca60",
   "metadata": {},
   "outputs": [
    {
     "data": {
      "text/html": [
       "<div>\n",
       "<style scoped>\n",
       "    .dataframe tbody tr th:only-of-type {\n",
       "        vertical-align: middle;\n",
       "    }\n",
       "\n",
       "    .dataframe tbody tr th {\n",
       "        vertical-align: top;\n",
       "    }\n",
       "\n",
       "    .dataframe thead th {\n",
       "        text-align: right;\n",
       "    }\n",
       "</style>\n",
       "<table border=\"1\" class=\"dataframe\">\n",
       "  <thead>\n",
       "    <tr style=\"text-align: right;\">\n",
       "      <th></th>\n",
       "      <th>Variable</th>\n",
       "      <th>Promedio</th>\n",
       "    </tr>\n",
       "  </thead>\n",
       "  <tbody>\n",
       "    <tr>\n",
       "      <th>0</th>\n",
       "      <td>urate</td>\n",
       "      <td>6.802061</td>\n",
       "    </tr>\n",
       "    <tr>\n",
       "      <th>1</th>\n",
       "      <td>children</td>\n",
       "      <td>1.000000</td>\n",
       "    </tr>\n",
       "    <tr>\n",
       "      <th>2</th>\n",
       "      <td>finc</td>\n",
       "      <td>13941.569547</td>\n",
       "    </tr>\n",
       "    <tr>\n",
       "      <th>3</th>\n",
       "      <td>earn</td>\n",
       "      <td>9928.278759</td>\n",
       "    </tr>\n",
       "    <tr>\n",
       "      <th>4</th>\n",
       "      <td>age</td>\n",
       "      <td>33.758993</td>\n",
       "    </tr>\n",
       "    <tr>\n",
       "      <th>5</th>\n",
       "      <td>ed</td>\n",
       "      <td>8.992479</td>\n",
       "    </tr>\n",
       "    <tr>\n",
       "      <th>6</th>\n",
       "      <td>work</td>\n",
       "      <td>0.537606</td>\n",
       "    </tr>\n",
       "    <tr>\n",
       "      <th>7</th>\n",
       "      <td>unearn</td>\n",
       "      <td>4.013291</td>\n",
       "    </tr>\n",
       "  </tbody>\n",
       "</table>\n",
       "</div>"
      ],
      "text/plain": [
       "   Variable      Promedio\n",
       "0     urate      6.802061\n",
       "1  children      1.000000\n",
       "2      finc  13941.569547\n",
       "3      earn   9928.278759\n",
       "4       age     33.758993\n",
       "5        ed      8.992479\n",
       "6      work      0.537606\n",
       "7    unearn      4.013291"
      ]
     },
     "execution_count": 128,
     "metadata": {},
     "output_type": "execute_result"
    }
   ],
   "source": [
    "m_one = one_children.iloc[:,[2,3,5,6,7,8,9,10]].mean()\n",
    "m_one = m_one.reset_index()\n",
    "m_one.columns = ['Variable', 'Promedio']\n",
    "m_one"
   ]
  },
  {
   "cell_type": "markdown",
   "id": "974eb672-9f1a-4a3e-9c82-277a378d34f0",
   "metadata": {},
   "source": [
    "(c) single women with 2+ children"
   ]
  },
  {
   "cell_type": "code",
   "execution_count": 130,
   "id": "fe65acfe-f892-4eca-94dc-816700b27729",
   "metadata": {},
   "outputs": [
    {
     "data": {
      "text/html": [
       "<div>\n",
       "<style scoped>\n",
       "    .dataframe tbody tr th:only-of-type {\n",
       "        vertical-align: middle;\n",
       "    }\n",
       "\n",
       "    .dataframe tbody tr th {\n",
       "        vertical-align: top;\n",
       "    }\n",
       "\n",
       "    .dataframe thead th {\n",
       "        text-align: right;\n",
       "    }\n",
       "</style>\n",
       "<table border=\"1\" class=\"dataframe\">\n",
       "  <thead>\n",
       "    <tr style=\"text-align: right;\">\n",
       "      <th></th>\n",
       "      <th>Variable</th>\n",
       "      <th>Promedio</th>\n",
       "    </tr>\n",
       "  </thead>\n",
       "  <tbody>\n",
       "    <tr>\n",
       "      <th>0</th>\n",
       "      <td>urate</td>\n",
       "      <td>6.858665</td>\n",
       "    </tr>\n",
       "    <tr>\n",
       "      <th>1</th>\n",
       "      <td>children</td>\n",
       "      <td>2.801092</td>\n",
       "    </tr>\n",
       "    <tr>\n",
       "      <th>2</th>\n",
       "      <td>finc</td>\n",
       "      <td>11985.295298</td>\n",
       "    </tr>\n",
       "    <tr>\n",
       "      <th>3</th>\n",
       "      <td>earn</td>\n",
       "      <td>6613.546648</td>\n",
       "    </tr>\n",
       "    <tr>\n",
       "      <th>4</th>\n",
       "      <td>age</td>\n",
       "      <td>32.047469</td>\n",
       "    </tr>\n",
       "    <tr>\n",
       "      <th>5</th>\n",
       "      <td>ed</td>\n",
       "      <td>9.006721</td>\n",
       "    </tr>\n",
       "    <tr>\n",
       "      <th>6</th>\n",
       "      <td>work</td>\n",
       "      <td>0.420710</td>\n",
       "    </tr>\n",
       "    <tr>\n",
       "      <th>7</th>\n",
       "      <td>unearn</td>\n",
       "      <td>5.371749</td>\n",
       "    </tr>\n",
       "  </tbody>\n",
       "</table>\n",
       "</div>"
      ],
      "text/plain": [
       "   Variable      Promedio\n",
       "0     urate      6.858665\n",
       "1  children      2.801092\n",
       "2      finc  11985.295298\n",
       "3      earn   6613.546648\n",
       "4       age     32.047469\n",
       "5        ed      9.006721\n",
       "6      work      0.420710\n",
       "7    unearn      5.371749"
      ]
     },
     "execution_count": 130,
     "metadata": {},
     "output_type": "execute_result"
    }
   ],
   "source": [
    "m_two = two_children.iloc[:,[2,3,5,6,7,8,9,10]].mean()\n",
    "m_two = m_two.reset_index()\n",
    "m_two.columns = ['Variable', 'Promedio']\n",
    "m_two"
   ]
  },
  {
   "cell_type": "markdown",
   "id": "da2be3b3-0dcf-490b-850f-e0de7a485c2e",
   "metadata": {},
   "source": [
    "#### 3. [5 points ] Construct a variable for the “treatment” called **anykids** (indicator for 1 or more kids) <br>and a variable for time being after the expansion (called **post93**, should be 1 for 1994 and later).\n"
   ]
  },
  {
   "cell_type": "markdown",
   "id": "f657750e-d15e-44ed-9bc4-bb34e4081949",
   "metadata": {
    "jp-MarkdownHeadingCollapsed": true
   },
   "source": [
    "##### Variable \"anykids\" "
   ]
  },
  {
   "cell_type": "code",
   "execution_count": 140,
   "id": "bbf55bd9-e1aa-4e22-ad0d-153a1ae672f4",
   "metadata": {},
   "outputs": [],
   "source": [
    "#Se asignará el valor de 1 para indicar que tiene hijos, y 0 en caso no los tenga\n",
    "\n",
    "def treatment(var):\n",
    "    if var >= 1:\n",
    "        return 1\n",
    "    else:\n",
    "        return 0"
   ]
  },
  {
   "cell_type": "code",
   "execution_count": 142,
   "id": "7f6a7a63-23b0-4539-bb12-cb2c6e853cc5",
   "metadata": {},
   "outputs": [],
   "source": [
    "eitc['anykids'] = eitc['children'].apply(treatment)"
   ]
  },
  {
   "cell_type": "code",
   "execution_count": 146,
   "id": "d2384244-bd1d-4fb5-9ceb-bb040b218b11",
   "metadata": {},
   "outputs": [
    {
     "data": {
      "text/html": [
       "<div>\n",
       "<style scoped>\n",
       "    .dataframe tbody tr th:only-of-type {\n",
       "        vertical-align: middle;\n",
       "    }\n",
       "\n",
       "    .dataframe tbody tr th {\n",
       "        vertical-align: top;\n",
       "    }\n",
       "\n",
       "    .dataframe thead th {\n",
       "        text-align: right;\n",
       "    }\n",
       "</style>\n",
       "<table border=\"1\" class=\"dataframe\">\n",
       "  <thead>\n",
       "    <tr style=\"text-align: right;\">\n",
       "      <th></th>\n",
       "      <th>children</th>\n",
       "      <th>anykids</th>\n",
       "    </tr>\n",
       "  </thead>\n",
       "  <tbody>\n",
       "    <tr>\n",
       "      <th>0</th>\n",
       "      <td>0</td>\n",
       "      <td>0</td>\n",
       "    </tr>\n",
       "    <tr>\n",
       "      <th>1</th>\n",
       "      <td>1</td>\n",
       "      <td>1</td>\n",
       "    </tr>\n",
       "    <tr>\n",
       "      <th>2</th>\n",
       "      <td>2</td>\n",
       "      <td>1</td>\n",
       "    </tr>\n",
       "    <tr>\n",
       "      <th>3</th>\n",
       "      <td>0</td>\n",
       "      <td>0</td>\n",
       "    </tr>\n",
       "    <tr>\n",
       "      <th>4</th>\n",
       "      <td>3</td>\n",
       "      <td>1</td>\n",
       "    </tr>\n",
       "  </tbody>\n",
       "</table>\n",
       "</div>"
      ],
      "text/plain": [
       "   children  anykids\n",
       "0         0        0\n",
       "1         1        1\n",
       "2         2        1\n",
       "3         0        0\n",
       "4         3        1"
      ]
     },
     "execution_count": 146,
     "metadata": {},
     "output_type": "execute_result"
    }
   ],
   "source": [
    "# Comprobamos que se ha creado correctamente la variable\n",
    "\n",
    "eitc.iloc[:,[3,11]].head()"
   ]
  },
  {
   "cell_type": "markdown",
   "id": "7c6a9b24-4acd-46a2-964b-8747a8744f4d",
   "metadata": {
    "jp-MarkdownHeadingCollapsed": true
   },
   "source": [
    "##### Variable \"post93\""
   ]
  },
  {
   "cell_type": "code",
   "execution_count": 157,
   "id": "be12ea8c-fad6-412f-8b9f-4c544e0ec994",
   "metadata": {},
   "outputs": [],
   "source": [
    "#Se asignará el valor de 1 para indicar que es posterior a 1993, y 0 en caso no lo sea\n",
    "\n",
    "def post(var):\n",
    "    if var > 1993:\n",
    "        return 1\n",
    "    else:\n",
    "        return 0"
   ]
  },
  {
   "cell_type": "code",
   "execution_count": 159,
   "id": "27508bbb-8ba5-4c5e-9f16-95e56f2c7ab6",
   "metadata": {},
   "outputs": [],
   "source": [
    "eitc['post93'] = eitc['year'].apply(post)"
   ]
  },
  {
   "cell_type": "code",
   "execution_count": 173,
   "id": "5bacefa0-4132-43bc-8dbb-c546bf3f30bc",
   "metadata": {},
   "outputs": [
    {
     "data": {
      "text/html": [
       "<div>\n",
       "<style scoped>\n",
       "    .dataframe tbody tr th:only-of-type {\n",
       "        vertical-align: middle;\n",
       "    }\n",
       "\n",
       "    .dataframe tbody tr th {\n",
       "        vertical-align: top;\n",
       "    }\n",
       "\n",
       "    .dataframe thead th {\n",
       "        text-align: right;\n",
       "    }\n",
       "</style>\n",
       "<table border=\"1\" class=\"dataframe\">\n",
       "  <thead>\n",
       "    <tr style=\"text-align: right;\">\n",
       "      <th></th>\n",
       "      <th>year</th>\n",
       "      <th>post93</th>\n",
       "    </tr>\n",
       "  </thead>\n",
       "  <tbody>\n",
       "    <tr>\n",
       "      <th>151</th>\n",
       "      <td>1993.0</td>\n",
       "      <td>0</td>\n",
       "    </tr>\n",
       "    <tr>\n",
       "      <th>152</th>\n",
       "      <td>1993.0</td>\n",
       "      <td>0</td>\n",
       "    </tr>\n",
       "    <tr>\n",
       "      <th>153</th>\n",
       "      <td>1994.0</td>\n",
       "      <td>1</td>\n",
       "    </tr>\n",
       "    <tr>\n",
       "      <th>154</th>\n",
       "      <td>1994.0</td>\n",
       "      <td>1</td>\n",
       "    </tr>\n",
       "    <tr>\n",
       "      <th>155</th>\n",
       "      <td>1994.0</td>\n",
       "      <td>1</td>\n",
       "    </tr>\n",
       "  </tbody>\n",
       "</table>\n",
       "</div>"
      ],
      "text/plain": [
       "       year  post93\n",
       "151  1993.0       0\n",
       "152  1993.0       0\n",
       "153  1994.0       1\n",
       "154  1994.0       1\n",
       "155  1994.0       1"
      ]
     },
     "execution_count": 173,
     "metadata": {},
     "output_type": "execute_result"
    }
   ],
   "source": [
    "# Comprobamos que se ha creado correctamente la variable\n",
    "\n",
    "eitc.iloc[151:,[1,12]].head()"
   ]
  },
  {
   "cell_type": "markdown",
   "id": "c982c4d7-ab04-4c99-bae0-e1de8e4421d6",
   "metadata": {
    "jp-MarkdownHeadingCollapsed": true
   },
   "source": [
    "#### 4. [10 points ] Using the “interaction term” diff-in-diff specification, run a regression to <br>estimate the difference-in-differences estimate of the effect of the EITC program on earnings. <br>Use all women with children as the treatment group.\n"
   ]
  },
  {
   "cell_type": "code",
   "execution_count": 175,
   "id": "a748cb6b-e012-4858-8c87-f3df895073c0",
   "metadata": {},
   "outputs": [],
   "source": [
    "# Creamos el término de interacción\n",
    "\n",
    "eitc['int_term'] = eitc['anykids'] * eitc['post93']"
   ]
  },
  {
   "cell_type": "code",
   "execution_count": 177,
   "id": "6258db43-916c-4df3-a9cd-0708b87600b6",
   "metadata": {},
   "outputs": [
    {
     "name": "stdout",
     "output_type": "stream",
     "text": [
      "                            OLS Regression Results                            \n",
      "==============================================================================\n",
      "Dep. Variable:                   earn   R-squared:                       0.026\n",
      "Model:                            OLS   Adj. R-squared:                  0.026\n",
      "Method:                 Least Squares   F-statistic:                     124.3\n",
      "Date:                Wed, 27 Nov 2024   Prob (F-statistic):           1.96e-79\n",
      "Time:                        12:28:22   Log-Likelihood:            -1.5416e+05\n",
      "No. Observations:               13746   AIC:                         3.083e+05\n",
      "Df Residuals:                   13742   BIC:                         3.084e+05\n",
      "Df Model:                           3                                         \n",
      "Covariance Type:            nonrobust                                         \n",
      "==============================================================================\n",
      "                 coef    std err          t      P>|t|      [0.025      0.975]\n",
      "------------------------------------------------------------------------------\n",
      "Intercept    1.38e+04    319.810     43.146      0.000    1.32e+04    1.44e+04\n",
      "anykids    -6613.5365    422.179    -15.665      0.000   -7441.065   -5786.008\n",
      "post93       -81.8683    467.557     -0.175      0.861    -998.345     834.608\n",
      "int_term    1668.6778    620.384      2.690      0.007     452.641    2884.715\n",
      "==============================================================================\n",
      "Omnibus:                    17833.782   Durbin-Watson:                   1.979\n",
      "Prob(Omnibus):                  0.000   Jarque-Bera (JB):          9111067.740\n",
      "Skew:                           6.858   Prob(JB):                         0.00\n",
      "Kurtosis:                     128.377   Cond. No.                         7.14\n",
      "==============================================================================\n",
      "\n",
      "Notes:\n",
      "[1] Standard Errors assume that the covariance matrix of the errors is correctly specified.\n"
     ]
    }
   ],
   "source": [
    "# Corremos la regresión Diff in Diff\n",
    "\n",
    "modelo1 = smf.ols('earn ~ anykids + post93 + int_term', data=eitc).fit()\n",
    "print(modelo1.summary())"
   ]
  },
  {
   "cell_type": "markdown",
   "id": "234ef171-0e78-4604-8559-4c97827caedf",
   "metadata": {},
   "source": [
    "#### 5. [7 points ] Repeat (iv), but now include ***state*** and **year** fixed effects <br>[Hint: state fixed effects, are included when we include a dummy variable for each state]. <br>Do you get similar estimated treatment effects compared to (iv)?\n"
   ]
  },
  {
   "cell_type": "markdown",
   "id": "fbeff709-1df1-4b6c-8123-f1827d97b2fb",
   "metadata": {},
   "source": [
    "##### Dummies para **state** y **year**"
   ]
  },
  {
   "cell_type": "code",
   "execution_count": null,
   "id": "50b83ab1-bb45-40ef-ab51-797cd51669e2",
   "metadata": {},
   "outputs": [],
   "source": []
  },
  {
   "cell_type": "code",
   "execution_count": null,
   "id": "eebfda95-74ed-4a0d-8338-78b3fcf7f76b",
   "metadata": {},
   "outputs": [],
   "source": []
  },
  {
   "cell_type": "code",
   "execution_count": null,
   "id": "6d44b5bf-b6da-45f1-8642-e3e1a156614f",
   "metadata": {},
   "outputs": [],
   "source": []
  },
  {
   "cell_type": "markdown",
   "id": "95c67374-83e0-415b-845f-80d7a46b3d05",
   "metadata": {},
   "source": [
    "#### 6. [7 points] Using the specification from (v), re-estimate this model including <br>urate nonwhite age ed unearn, as well as state and year FEs as controls. <br>Do you get similar estimated treatment effects compared to (v)?\n"
   ]
  },
  {
   "cell_type": "code",
   "execution_count": null,
   "id": "6f72518b-436b-4035-a6b6-a96b5fbcdf2b",
   "metadata": {},
   "outputs": [],
   "source": []
  },
  {
   "cell_type": "markdown",
   "id": "f560d3e7-3688-423b-ab1c-5c65f709070a",
   "metadata": {},
   "source": [
    "#### 7. [7 points ] Estimate a version of your model that allows the treatment effect to vary by those with 1 or 2+ children. <br>Include all other variables as in (vi). <br>Does the intervention seem to be more effective for one of these groups over the other? <br>Why might this be the case in the real world?\n"
   ]
  },
  {
   "cell_type": "code",
   "execution_count": null,
   "id": "39798e8a-b242-4782-96ae-c00590e1aa9f",
   "metadata": {},
   "outputs": [],
   "source": []
  },
  {
   "cell_type": "markdown",
   "id": "8a0fe1a9-0180-4bc8-ae64-834b32840774",
   "metadata": {},
   "source": [
    "#### 8. [6 points ] Estimate a “placebo” treatment model as follows: Take data from only the prereform <br> period (up to and including 1993). <br>Drop the rest, or restrict your model to run only if **year** <= 1993. <br>Estimate the effect for all affected women together, just as in (vi). <br>Introduce a placebo policy that begins in 1992 (so 1992 and 1993 are both “treated” with this fake policy). <br>What do you find? <br>Are your results “reassuring”?"
   ]
  },
  {
   "cell_type": "code",
   "execution_count": null,
   "id": "e90a725f-8e61-4165-a02c-181bf5e685f4",
   "metadata": {},
   "outputs": [],
   "source": []
  }
 ],
 "metadata": {
  "kernelspec": {
   "display_name": "Python 3 (ipykernel)",
   "language": "python",
   "name": "python3"
  },
  "language_info": {
   "codemirror_mode": {
    "name": "ipython",
    "version": 3
   },
   "file_extension": ".py",
   "mimetype": "text/x-python",
   "name": "python",
   "nbconvert_exporter": "python",
   "pygments_lexer": "ipython3",
   "version": "3.11.5"
  }
 },
 "nbformat": 4,
 "nbformat_minor": 5
}
