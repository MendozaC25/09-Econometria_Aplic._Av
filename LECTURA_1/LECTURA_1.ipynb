{
 "cells": [
  {
   "cell_type": "markdown",
   "id": "0d733e66-a4ef-4f34-8378-6735fc025033",
   "metadata": {},
   "source": [
    "# **ECONOMETRÍA APLICADA AVANZADA**"
   ]
  },
  {
   "cell_type": "markdown",
   "id": "cde5b69e-48a3-41ee-91ce-1b7137bf6d97",
   "metadata": {},
   "source": [
    "## **CONTROL DE LECTURA – Differences-in-Differences**\n",
    "\n",
    "Profesor(a): Cristina Tello-Trillo (tellotri@gmail.com)\n",
    "<BR> JP: Anzony Quispe (anzony.quispe@gmail.com)"
   ]
  },
  {
   "cell_type": "markdown",
   "id": "2bde6f71-7a93-459a-9005-38eb6e8b4366",
   "metadata": {},
   "source": [
    "Control de Lectura $Police-Monitored$ $Cameras$ $and$ $Crime^{*}$ $por$ $Muyo$ $y$ $Rossi$ $(2020)$"
   ]
  },
  {
   "cell_type": "markdown",
   "id": "ff7a92cf-040a-4eea-bf33-ce88934f1041",
   "metadata": {},
   "source": [
    "**Fernando Mendoza COD 20105246**"
   ]
  },
  {
   "cell_type": "markdown",
   "id": "f9f076eb-8971-494e-a9fa-f29127b61226",
   "metadata": {},
   "source": [
    "#### **1.\tDefina cuál es el grupo de control, el grupo de tratamiento y la política en cuestión.**"
   ]
  },
  {
   "cell_type": "markdown",
   "id": "2bdf7b65-e85e-46d1-8be2-de874a609e4f",
   "metadata": {},
   "source": [
    "**1. Grupo de control:**\n",
    "<br>El grupo de control incluye:\n",
    "- Calles no monitoreadas dentro de Montevideo: Estas son calles donde no se instalaron cámaras de vigilancia durante el período de análisis. En un enfoque secundario, se consideran calles que eventualmente serán monitoreadas, pero antes de que lo sean.\n",
    "- Jurisdicciones fuera de Montevideo: Estas áreas sirven como un \"grupo de control puro\" bajo la suposición de que no están influenciadas por efectos de desplazamiento del crimen desde Montevideo.\n",
    "\n",
    "**2. Grupo de tratamiento:**\n",
    "\n",
    "El grupo de tratamiento está compuesto por los segmentos de calle en Montevideo donde se instalaron cámaras de vigilancia monitorizadas por la policía durante el período de estudio (2013-2014). Estas áreas se consideran \"tratadas\" a partir del momento en que las cámaras comenzaron a operar.\n",
    "\n",
    "**3. Política en cuestión:**\n",
    "\n",
    "La política evaluada es la instalación de cámaras de vigilancia monitorizadas por la policía en ciertas áreas de Montevideo, iniciada en 2013 por el Ministerio del Interior de Uruguay. Estas cámaras están conectadas a un centro de monitoreo donde oficiales supervisan las imágenes y coordinan respuestas rápidas con patrullas policiales en caso de incidentes. La política tiene como objetivo reducir la criminalidad en las áreas vigiladas."
   ]
  },
  {
   "cell_type": "markdown",
   "id": "08ce11a6-ff34-4684-91e3-4db1e9fcc077",
   "metadata": {},
   "source": [
    "#### **2. Durante el período de análisis 2012-2014, además de la inserción de cámaras de vigilancia, nuevas políticas fueron implementadas por el Departamento de Policía. Esto podría generar que múltiples eventos estén afectando al grupo de tratamiento al mismo tiempo; por lo tanto, el coeficiente de diff-and-diff no sería capaz de distinguir entre el efecto de la inserción de cámaras policiales y estas nuevas políticas. <br>¿Por qué los autores pueden asegurar que estas otras políticas no son un problema y que los efectos fijos de tiempo pueden capturar estos cambios producidos por las otras políticas? <br>Explique e incluya una descripción de los efectos fijos en su argumento.**"
   ]
  },
  {
   "cell_type": "markdown",
   "id": "100dd5b0-d052-42ba-954f-c3c1c900a514",
   "metadata": {},
   "source": [
    "Los autores argumentan que las nuevas políticas implementadas durante el período de análisis no afectan la validez de los resultados porque los efectos fijos de tiempo capturan los cambios generales producidos por estas políticas en toda la ciudad, permitiendo aislar el efecto específico de las cámaras en las áreas tratadas. Para entender esto, es clave comprender qué son los efectos fijos y cómo se aplican:\n",
    "\n",
    "**a. Efectos fijos en el análisis**\n",
    "\n",
    "1. Efectos fijos de tiempo (month fixed effects):\n",
    "\n",
    "    Capturan cambios que afectan a todas las áreas de Montevideo (tratadas y no tratadas) en un momento dado. \n",
    "    \n",
    "    Por ejemplo, si en 2013 se incrementaron los salarios de la policía o se mejoró su equipamiento, estas políticas tendrían un impacto en toda la ciudad simultáneamente. Los efectos fijos de tiempo aseguran que estas variaciones comunes no sean atribuidas erróneamente a la instalación de cámaras.\n",
    "2. Efectos fijos por segmento de calle (street-segment fixed effects):\n",
    "\n",
    "    Capturan características fijas de cada segmento de calle (como el nivel base de criminalidad o características estructurales) que no cambian durante el período de análisis.\n",
    "    \n",
    "    Por ejemplo, si un área ya tenía mayores niveles de criminalidad o era más atractiva para los delincuentes antes de la instalación de cámaras, esto se controla al incluir efectos fijos por segmento.\n",
    "\n",
    "**b. Por qué las políticas adicionales no son un problema**\n",
    "<br>Los autores justifican que las políticas adicionales no invalidan sus resultados por las siguientes razones:\n",
    "\n",
    "1. Las políticas afectan a toda la ciudad de forma uniforme:\n",
    "\n",
    "Estas políticas, como el aumento de salarios, entrenamiento adicional o patrullajes generales, no están colineales con la instalación de cámaras. Es decir, no se implementaron exclusivamente en las áreas tratadas.\n",
    "Los efectos fijos de tiempo capturan estos cambios, aislando su impacto en el análisis.\n",
    "\n",
    "2. Independencia del cronograma de instalación:\n",
    "\n",
    "El cronograma de instalación de las cámaras no se basó en tendencias específicas de criminalidad o en la prioridad de áreas con problemas, sino en decisiones operativas. Esto asegura que las variaciones en criminalidad observadas en las áreas tratadas se deben principalmente a las cámaras y no a otras políticas.\n",
    "\n",
    "3. Validación con grupos de control:\n",
    "\n",
    "Al incluir tanto áreas no tratadas dentro de Montevideo como áreas fuera de la ciudad como grupos de control, los autores pueden confirmar que los resultados no se deben a factores comunes no observados, sino a la presencia de cámaras en las áreas tratadas."
   ]
  },
  {
   "cell_type": "markdown",
   "id": "3d6d0e7c-22b4-4bf5-8993-9e7db8b2dba5",
   "metadata": {},
   "source": [
    "#### **3. Estructure un ejemplo de política pública que los efectos fijos de tiempo no puedan capturar; en consecuencia, la estrategia de identificación de los autores falla.**"
   ]
  },
  {
   "cell_type": "markdown",
   "id": "79c7a510-f984-4a0d-aa2c-052ea342dce4",
   "metadata": {},
   "source": [
    "Un ejemplo de una política pública que los efectos fijos de tiempo no pueden capturar adecuadamente sería una política que tenga impactos diferenciados y específicos en las áreas tratadas en comparación con las no tratadas, lo que rompería el supuesto de que los efectos de tiempo son homogéneos en toda la ciudad. Esto generaría un sesgo en la estimación del impacto de las cámaras de vigilancia porque los efectos capturados en las áreas tratadas no serían únicamente atribuibles a estas.\n",
    "\n",
    "**Ejemplo de política problemática:**\n",
    "<br>Implementación de un programa piloto de patrullaje intensivo exclusivamente en las áreas donde se instalan cámaras de vigilancia.\n",
    "\n",
    "Supongamos que, al mismo tiempo que se instalan las cámaras, el gobierno implementa un programa piloto que incrementa significativamente la presencia policial (patrullas) solo en las áreas tratadas.\n",
    "\n",
    "Este programa busca complementar el monitoreo de las cámaras y reducir los tiempos de respuesta, pero no se extiende a otras áreas de la ciudad.\n",
    "\n",
    "**Por qué los efectos fijos de tiempo no capturan este caso:**\n",
    "1. Impacto no uniforme en el tiempo:\n",
    "\n",
    "    Mientras que los efectos fijos de tiempo capturan cambios comunes en toda la ciudad (como una mejora en el entrenamiento de la policía), esta política afecta solo las áreas tratadas.\n",
    "\n",
    "    Esto rompe el supuesto de que los cambios en el tiempo son iguales para las áreas tratadas y no tratadas.\n",
    "\n",
    "2. Colinealidad entre la política y el tratamiento:\n",
    "\n",
    "    La presencia del patrullaje intensivo está directamente vinculada a las áreas donde se instalaron las cámaras. En este caso, el coeficiente de la estrategia de diferencia en diferencias capturaría el efecto combinado de las cámaras y el patrullaje intensivo, dificultando distinguir cuál de las dos intervenciones fue responsable de la reducción de la criminalidad.\n",
    "3. Distorsión del grupo de control:\n",
    "\n",
    "   Las áreas no tratadas no reciben el patrullaje intensivo, lo que introduce una diferencia estructural adicional entre los grupos de tratamiento y control. Esto podría sesgar la comparación al sugerir que las cámaras tienen un efecto mayor del que realmente tienen.\n",
    "   \n",
    "**Cómo afecta la estrategia de identificación:**\n",
    "\n",
    "Dado que los efectos fijos de tiempo no pueden separar los impactos específicos del programa piloto del efecto de las cámaras, el estimador de diferencia en diferencias se contamina con el efecto del patrullaje intensivo. En consecuencia:\n",
    "\n",
    "El efecto estimado de las cámaras sobre la criminalidad estaría sobrestimado.\n",
    "    \n",
    "La validez causal de la estrategia de identificación se pierde, ya que no sería posible atribuir los resultados únicamente a las cámaras"
   ]
  },
  {
   "cell_type": "markdown",
   "id": "125ef7a3-c272-485f-b763-378e98eb4526",
   "metadata": {},
   "source": [
    "#### **4. Interprete la figura número 3.**"
   ]
  },
  {
   "cell_type": "markdown",
   "id": "544b9f26-1622-481b-b31c-6b4993688ab3",
   "metadata": {},
   "source": [
    "En la Figura 3 del documento, se presenta la secuencia de los coeficientes $\\beta_{k}$ obtenidos en la estimación con dummies de eventos anticipados (*\"leads\"*) y retardados (*\"lags\"*) en el modelo de diferencia en diferencias. Esta figura ayuda a evaluar tanto la validez de las tendencias paralelas previas al tratamiento como el efecto dinámico del tratamiento después de la instalación de las cámaras de vigilancia. A continuación, se interpreta en detalle:\n",
    "\n",
    "**a. Ejes de la figura:**\n",
    "    \n",
    "1. Eje vertical: \n",
    "Representa el valor estimado del coeficiente $\\beta_{k}$, que mide el efecto de las cámaras en los meses $k$ antes y después de su instalación.\n",
    "\n",
    "2. Eje horizontal: \n",
    "Representa el tiempo en relación con la instalación de las cámaras:\n",
    "\n",
    "- $t=0$: Momento en que las cámaras son instaladas.\n",
    "- Valores negativos ($t<0$): Meses previos al tratamiento.\n",
    "- Valores positivos ($t>0$): Meses posteriores al tratamiento.\n",
    "Además, se incluyen bandas de confianza alrededor de los coeficientes para mostrar la significancia estadística.\n",
    "\n",
    "**b. Interpretación de las secciones clave:**\n",
    "1. Pre-tratamiento ($t<0$):\n",
    "\n",
    "Los coeficientes $\\beta_{k}$ antes de la instalación de las cámaras no son significativamente diferentes de cero (incluyen el valor cero dentro de las bandas de confianza).\n",
    "\n",
    "Esto indica que no hay una tendencia previa diferencial entre las áreas tratadas y las no tratadas, lo que respalda la validez de la asunción de tendencias paralelas requerida para la estrategia de diferencia en diferencias.\n",
    "\n",
    "2. Post-tratamiento ($t>0$):\n",
    "\n",
    "Los coeficientes $\\beta_{k}$ después de la instalación de las cámaras son negativos y estadísticamente significativos (las bandas de confianza no incluyen el cero).\n",
    "\n",
    "Esto muestra una reducción significativa en la criminalidad tras la instalación de las cámaras.\n",
    "\n",
    "La magnitud del efecto se mantiene relativamente constante durante los meses posteriores al tratamiento, lo que sugiere que el impacto de las cámaras es estable en el tiempo.\n",
    "\n",
    "3. Momento de la instalación ($t=0$):\n",
    "\n",
    "Aquí se observa un cambio en los coeficientes, pasando de valores cercanos a cero (pre-tratamiento) a valores negativos significativos (post-tratamiento). Esto refuerza la idea de que el efecto en la criminalidad ocurre a partir de la instalación de las cámaras."
   ]
  },
  {
   "cell_type": "markdown",
   "id": "fbfc82e7-1326-4128-9e7f-0dc7344354b0",
   "metadata": {},
   "source": [
    "#### **5.\tDefina qué es el SUTVA y desarrolle un argumento por el cual los autores estaban preocupados que el supuesto no se cumpla para su caso de estudio. <br>Explique la importancia del análisis del grupo de control puro en el paper.**"
   ]
  },
  {
   "cell_type": "markdown",
   "id": "5a8c3538-8859-4e4b-ac43-dfd67ee83e30",
   "metadata": {},
   "source": [
    "**Definición de SUTVA**\n",
    "\n",
    "El Supuesto de Unidad de Tratamiento Estable (*Stable Unit Treatment Value Assumption*, SUTVA) establece dos condiciones clave en un análisis causal:\n",
    "\n",
    "1. Ausencia de interferencia entre unidades: El tratamiento aplicado a una unidad (por ejemplo, la instalación de cámaras en un área) no debe afectar los resultados de otras unidades (como las áreas sin cámaras).\n",
    "2. Tratamiento único bien definido: Cada unidad debe recibir únicamente el tratamiento asignado o permanecer como control, sin combinaciones ni variaciones no consideradas.\n",
    "\n",
    "En el contexto de este estudio, esto significa que la instalación de cámaras en las áreas tratadas no debería alterar la criminalidad en las áreas no tratadas.\n",
    "\n",
    "**Preocupación de los autores respecto al SUTVA**\n",
    "\n",
    "Los autores estaban preocupados de que el supuesto de SUTVA no se cumpliera debido a posibles efectos de desplazamiento o efectos de derrame (spillovers):\n",
    "\n",
    "1. Efectos de desplazamiento:\n",
    "\n",
    "Los delincuentes podrían relocalizarse en áreas no monitoreadas para evitar las cámaras, incrementando la criminalidad en estas áreas.\n",
    "\n",
    "Esto violaría la independencia entre unidades, ya que el tratamiento (cámaras) en una unidad afecta a otras (áreas no tratadas).\n",
    "\n",
    "2. Efectos de derrame positivo:\n",
    "\n",
    "El monitoreo policial y el efecto disuasorio de las cámaras podrían extenderse a áreas cercanas, disminuyendo la criminalidad también en zonas no monitoreadas.\n",
    "\n",
    "Esto podría sesgar los resultados, subestimando el efecto real de las cámaras en las áreas tratadas.\n",
    "\n",
    "**Importancia del análisis del grupo de control puro**\n",
    "\n",
    "Para abordar estas preocupaciones, los autores incluyen un grupo de control puro, compuesto por jurisdicciones fuera de Montevideo, bajo la suposición de que estas áreas no se ven afectadas por la instalación de cámaras dentro de la ciudad. Este grupo es crucial porque:\n",
    "\n",
    "1. Evita la contaminación del control dentro de Montevideo:\n",
    "\n",
    "Las áreas no monitoreadas dentro de Montevideo podrían verse influenciadas por desplazamientos o derrames, lo que distorsionaría las estimaciones del efecto de las cámaras.\n",
    "\n",
    "El grupo de control puro, al estar geográficamente aislado, proporciona una referencia independiente para comparar los cambios en la criminalidad.\n",
    "\n",
    "2. Asegura la validez de los resultados:\n",
    "\n",
    "Al comparar los cambios en criminalidad entre las áreas tratadas y el grupo de control puro, se puede aislar mejor el efecto causal de las cámaras, evitando el sesgo por interferencia entre unidades."
   ]
  }
 ],
 "metadata": {
  "kernelspec": {
   "display_name": "Python 3 (ipykernel)",
   "language": "python",
   "name": "python3"
  },
  "language_info": {
   "codemirror_mode": {
    "name": "ipython",
    "version": 3
   },
   "file_extension": ".py",
   "mimetype": "text/x-python",
   "name": "python",
   "nbconvert_exporter": "python",
   "pygments_lexer": "ipython3",
   "version": "3.11.5"
  }
 },
 "nbformat": 4,
 "nbformat_minor": 5
}
